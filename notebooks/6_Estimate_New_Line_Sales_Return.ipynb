{
 "cells": [
  {
   "cell_type": "markdown",
   "metadata": {},
   "source": [
    "# Estimate New Line Sales Return\n",
    "\n",
    "I thought that a Gaussian distribution might not be the best idea when I was first modelling, however it is an easy model to fit and understand, with fewer parameters. This time I decided to try getting a Poisson distribution to work, I also noticed that I had used the wrong file in the first estimate and also given the model a skewed dataset, so it was fitting to £35 = 0 counts, when it should have been ignoring £35. With these two errors corrected and the Poisson working I ran the model again.\n",
    "\n",
    "I also thought that the binned values were not representing the data very well so I reduced the number of bins and refit the distribution. Again, this gives a simple function that can be used to estimate the sales of the new line, assuming people purchase products in a roughly poisson distribution.\n",
    "\n",
    "Notebook 5. now has a more accurate sales prediction."
   ]
  },
  {
   "cell_type": "markdown",
   "metadata": {},
   "source": [
    "### Import packages, read pickle"
   ]
  },
  {
   "cell_type": "code",
   "execution_count": 1,
   "metadata": {},
   "outputs": [],
   "source": [
    "%matplotlib inline\n",
    "\n",
    "import matplotlib\n",
    "import matplotlib.pyplot as plt\n",
    "import numpy as np\n",
    "import pandas as pd\n",
    "from os import path\n",
    "import scipy.optimize as opt\n",
    "import pickle\n",
    "pd.options.display.max_seq_items = 2000"
   ]
  },
  {
   "cell_type": "code",
   "execution_count": 2,
   "metadata": {},
   "outputs": [],
   "source": [
    "openfile=open( r\"C:\\Users\\Joseph\\Documents\\Beamly\\TakeHomeTask\\beamly_case_study2.pickle\", \"rb\")\n",
    "df=pickle.load(openfile)\n",
    "openfile.close()"
   ]
  },
  {
   "cell_type": "markdown",
   "metadata": {},
   "source": [
    "### make dataset\n",
    "look at avg_price still as the estimator, this time want to take out 0s from histogram."
   ]
  },
  {
   "cell_type": "code",
   "execution_count": 3,
   "metadata": {},
   "outputs": [
    {
     "data": {
      "text/plain": [
       "<matplotlib.axes._subplots.AxesSubplot at 0x25445e4aa58>"
      ]
     },
     "execution_count": 3,
     "metadata": {},
     "output_type": "execute_result"
    },
    {
     "data": {
      "image/png": "[encoded data removed]",
      "text/plain": [
       "<Figure size 432x288 with 1 Axes>"
      ]
     },
     "metadata": {
      "needs_background": "light"
     },
     "output_type": "display_data"
    }
   ],
   "source": [
    "df['avg_price'].hist(bins=40)"
   ]
  },
  {
   "cell_type": "code",
   "execution_count": 4,
   "metadata": {},
   "outputs": [],
   "source": [
    "data=df['avg_price'].values"
   ]
  },
  {
   "cell_type": "code",
   "execution_count": 5,
   "metadata": {},
   "outputs": [],
   "source": [
    "data = data[np.isfinite(data)]"
   ]
  },
  {
   "cell_type": "code",
   "execution_count": 6,
   "metadata": {},
   "outputs": [
    {
     "data": {
      "text/plain": [
       "array([29.95, 27.95, 27.95, ..., 15.9 , 24.5 , 24.95])"
      ]
     },
     "execution_count": 6,
     "metadata": {},
     "output_type": "execute_result"
    }
   ],
   "source": [
    "data"
   ]
  },
  {
   "cell_type": "markdown",
   "metadata": {},
   "source": [
    "### Modelling"
   ]
  },
  {
   "cell_type": "markdown",
   "metadata": {},
   "source": [
    "This time I will estimate sales for the missing band using a poisson distribution."
   ]
  },
  {
   "cell_type": "code",
   "execution_count": 7,
   "metadata": {},
   "outputs": [],
   "source": [
    "from scipy.misc import factorial\n",
    "from scipy.optimize import minimize, curve_fit\n",
    "\n",
    "def poisson(k, paras):#paras[0]=lambda, paras[1]=shift, paras[2]=Amplitude\n",
    "    \"\"\"poisson pdf, parameter lamb is the fit parameter\"\"\"\n",
    "    return paras[2]*(paras[0]**(k+paras[1])/factorial(k+paras[1])) * np.exp(-paras[0])\n",
    "def gauss(x, p,D):#p[0]=mu,p[1]=st_dev,p[2]=Amplitude\n",
    "    \"\"\"gaussian pdf, paras are the fit parameters\"\"\"\n",
    "    return p[2]/(p[1]*np.sqrt(2*np.pi))*np.exp(-(x-p[0])**2/(2*p[1]**2))+D #p[0]=mu (displace x), p[1]=sig (stdev), p[2]=A (amp), D=,meanmag"
   ]
  },
  {
   "cell_type": "markdown",
   "metadata": {},
   "source": [
    "Create the data from the histogram, then remove the 0s and put into a new dataframe for the fitting process."
   ]
  },
  {
   "cell_type": "code",
   "execution_count": 9,
   "metadata": {},
   "outputs": [],
   "source": [
    "y,edges=np.histogram(data,bins=40)\n",
    "x1=(edges+((edges[1]-edges[0])/2.0))[:-1]"
   ]
  },
  {
   "cell_type": "code",
   "execution_count": 10,
   "metadata": {},
   "outputs": [
    {
     "data": {
      "text/html": [
       "<div>\n",
       "<style scoped>\n",
       "    .dataframe tbody tr th:only-of-type {\n",
       "        vertical-align: middle;\n",
       "    }\n",
       "\n",
       "    .dataframe tbody tr th {\n",
       "        vertical-align: top;\n",
       "    }\n",
       "\n",
       "    .dataframe thead th {\n",
       "        text-align: right;\n",
       "    }\n",
       "</style>\n",
       "<table border=\"1\" class=\"dataframe\">\n",
       "  <thead>\n",
       "    <tr style=\"text-align: right;\">\n",
       "      <th></th>\n",
       "      <th>0</th>\n",
       "    </tr>\n",
       "  </thead>\n",
       "  <tbody>\n",
       "    <tr>\n",
       "      <th>1.7525</th>\n",
       "      <td>1468</td>\n",
       "    </tr>\n",
       "    <tr>\n",
       "      <th>3.7575</th>\n",
       "      <td>1137</td>\n",
       "    </tr>\n",
       "    <tr>\n",
       "      <th>5.7625</th>\n",
       "      <td>359</td>\n",
       "    </tr>\n",
       "    <tr>\n",
       "      <th>7.7675</th>\n",
       "      <td>311</td>\n",
       "    </tr>\n",
       "    <tr>\n",
       "      <th>9.7725</th>\n",
       "      <td>617</td>\n",
       "    </tr>\n",
       "    <tr>\n",
       "      <th>11.7775</th>\n",
       "      <td>288</td>\n",
       "    </tr>\n",
       "    <tr>\n",
       "      <th>13.7825</th>\n",
       "      <td>886</td>\n",
       "    </tr>\n",
       "    <tr>\n",
       "      <th>15.7875</th>\n",
       "      <td>1423</td>\n",
       "    </tr>\n",
       "    <tr>\n",
       "      <th>17.7925</th>\n",
       "      <td>1731</td>\n",
       "    </tr>\n",
       "    <tr>\n",
       "      <th>19.7975</th>\n",
       "      <td>3285</td>\n",
       "    </tr>\n",
       "    <tr>\n",
       "      <th>21.8025</th>\n",
       "      <td>1696</td>\n",
       "    </tr>\n",
       "    <tr>\n",
       "      <th>23.8075</th>\n",
       "      <td>2371</td>\n",
       "    </tr>\n",
       "    <tr>\n",
       "      <th>25.8125</th>\n",
       "      <td>2317</td>\n",
       "    </tr>\n",
       "    <tr>\n",
       "      <th>27.8175</th>\n",
       "      <td>1724</td>\n",
       "    </tr>\n",
       "    <tr>\n",
       "      <th>29.8225</th>\n",
       "      <td>2908</td>\n",
       "    </tr>\n",
       "    <tr>\n",
       "      <th>41.8525</th>\n",
       "      <td>323</td>\n",
       "    </tr>\n",
       "    <tr>\n",
       "      <th>43.8575</th>\n",
       "      <td>540</td>\n",
       "    </tr>\n",
       "    <tr>\n",
       "      <th>45.8625</th>\n",
       "      <td>294</td>\n",
       "    </tr>\n",
       "    <tr>\n",
       "      <th>47.8675</th>\n",
       "      <td>296</td>\n",
       "    </tr>\n",
       "    <tr>\n",
       "      <th>49.8725</th>\n",
       "      <td>608</td>\n",
       "    </tr>\n",
       "    <tr>\n",
       "      <th>51.8775</th>\n",
       "      <td>123</td>\n",
       "    </tr>\n",
       "    <tr>\n",
       "      <th>53.8825</th>\n",
       "      <td>93</td>\n",
       "    </tr>\n",
       "    <tr>\n",
       "      <th>55.8875</th>\n",
       "      <td>343</td>\n",
       "    </tr>\n",
       "    <tr>\n",
       "      <th>57.8925</th>\n",
       "      <td>97</td>\n",
       "    </tr>\n",
       "    <tr>\n",
       "      <th>59.8975</th>\n",
       "      <td>228</td>\n",
       "    </tr>\n",
       "    <tr>\n",
       "      <th>61.9025</th>\n",
       "      <td>45</td>\n",
       "    </tr>\n",
       "    <tr>\n",
       "      <th>63.9075</th>\n",
       "      <td>25</td>\n",
       "    </tr>\n",
       "    <tr>\n",
       "      <th>65.9125</th>\n",
       "      <td>83</td>\n",
       "    </tr>\n",
       "    <tr>\n",
       "      <th>67.9175</th>\n",
       "      <td>93</td>\n",
       "    </tr>\n",
       "    <tr>\n",
       "      <th>69.9225</th>\n",
       "      <td>60</td>\n",
       "    </tr>\n",
       "    <tr>\n",
       "      <th>71.9275</th>\n",
       "      <td>42</td>\n",
       "    </tr>\n",
       "    <tr>\n",
       "      <th>75.9375</th>\n",
       "      <td>36</td>\n",
       "    </tr>\n",
       "    <tr>\n",
       "      <th>77.9425</th>\n",
       "      <td>1</td>\n",
       "    </tr>\n",
       "    <tr>\n",
       "      <th>79.9475</th>\n",
       "      <td>2</td>\n",
       "    </tr>\n",
       "  </tbody>\n",
       "</table>\n",
       "</div>"
      ],
      "text/plain": [
       "            0\n",
       "1.7525   1468\n",
       "3.7575   1137\n",
       "5.7625    359\n",
       "7.7675    311\n",
       "9.7725    617\n",
       "11.7775   288\n",
       "13.7825   886\n",
       "15.7875  1423\n",
       "17.7925  1731\n",
       "19.7975  3285\n",
       "21.8025  1696\n",
       "23.8075  2371\n",
       "25.8125  2317\n",
       "27.8175  1724\n",
       "29.8225  2908\n",
       "41.8525   323\n",
       "43.8575   540\n",
       "45.8625   294\n",
       "47.8675   296\n",
       "49.8725   608\n",
       "51.8775   123\n",
       "53.8825    93\n",
       "55.8875   343\n",
       "57.8925    97\n",
       "59.8975   228\n",
       "61.9025    45\n",
       "63.9075    25\n",
       "65.9125    83\n",
       "67.9175    93\n",
       "69.9225    60\n",
       "71.9275    42\n",
       "75.9375    36\n",
       "77.9425     1\n",
       "79.9475     2"
      ]
     },
     "execution_count": 10,
     "metadata": {},
     "output_type": "execute_result"
    }
   ],
   "source": [
    "df_forfit=pd.DataFrame(y,index=x1)\n",
    "df_forfit=df_forfit[df_forfit[0]!=0]\n",
    "df_forfit"
   ]
  },
  {
   "cell_type": "markdown",
   "metadata": {},
   "source": [
    "### Fitting Model\n",
    "Fit the Poisson model to the avg_price data"
   ]
  },
  {
   "cell_type": "code",
   "execution_count": 11,
   "metadata": {},
   "outputs": [
    {
     "name": "stderr",
     "output_type": "stream",
     "text": [
      "c:\\users\\joseph\\appdata\\local\\programs\\python\\python36\\lib\\site-packages\\ipykernel_launcher.py:6: DeprecationWarning: `factorial` is deprecated!\n",
      "Importing `factorial` from scipy.misc is deprecated in scipy 1.0.0. Use `scipy.special.factorial` instead.\n",
      "  \n"
     ]
    },
    {
     "data": {
      "text/plain": [
       "[<matplotlib.lines.Line2D at 0x254465c04a8>]"
      ]
     },
     "execution_count": 11,
     "metadata": {},
     "output_type": "execute_result"
    },
    {
     "data": {
      "image/png": "[encoded data removed]",
      "text/plain": [
       "<Figure size 432x288 with 1 Axes>"
      ]
     },
     "metadata": {
      "needs_background": "light"
     },
     "output_type": "display_data"
    }
   ],
   "source": [
    "y=df_forfit[0].values\n",
    "x1=df_forfit.index\n",
    "o0=[20.,30.,5.]\n",
    "errfunc = lambda o, x1, y: poisson(x1, o) - y # Distance to the target function, similar to def function.\n",
    "o1, success = opt.leastsq(errfunc, o0[:], args=(x1, y)) # p1 gives parameters\n",
    "plt.figure()\n",
    "plt.plot(x1,y)\n",
    "plt.plot(x1,poisson(x1,o1))"
   ]
  },
  {
   "cell_type": "code",
   "execution_count": 12,
   "metadata": {},
   "outputs": [
    {
     "name": "stdout",
     "output_type": "stream",
     "text": [
      "1375.8158945526754 2418.17461079001 1555.4567987095302 401.4222357205007\n"
     ]
    },
    {
     "name": "stderr",
     "output_type": "stream",
     "text": [
      "c:\\users\\joseph\\appdata\\local\\programs\\python\\python36\\lib\\site-packages\\ipykernel_launcher.py:6: DeprecationWarning: `factorial` is deprecated!\n",
      "Importing `factorial` from scipy.misc is deprecated in scipy 1.0.0. Use `scipy.special.factorial` instead.\n",
      "  \n"
     ]
    }
   ],
   "source": [
    "Band10_20_avg_price_count=poisson(15,o1)\n",
    "Band20_30_avg_price_count=poisson(25,o1)\n",
    "Band30_40_avg_price_count=poisson(35,o1)\n",
    "Band40_50_avg_price_count=poisson(45,o1)\n",
    "print(Band10_20_avg_price_count,Band20_30_avg_price_count,Band30_40_avg_price_count,Band40_50_avg_price_count)"
   ]
  },
  {
   "cell_type": "markdown",
   "metadata": {},
   "source": [
    "This has now be re-evaluated using a Poisson dist, it seems a little more accurate at least."
   ]
  },
  {
   "cell_type": "code",
   "execution_count": 13,
   "metadata": {},
   "outputs": [
    {
     "name": "stdout",
     "output_type": "stream",
     "text": [
      "1.1305704526805618 0.6432359316688746\n"
     ]
    }
   ],
   "source": [
    "var1=Band30_40_avg_price_count/Band10_20_avg_price_count\n",
    "var2=Band30_40_avg_price_count/Band20_30_avg_price_count\n",
    "print(var1,var2)"
   ]
  },
  {
   "cell_type": "markdown",
   "metadata": {},
   "source": [
    "Can create a very simple function based on the benchmarked sales, to apply to columns in a dataframe"
   ]
  },
  {
   "cell_type": "code",
   "execution_count": 14,
   "metadata": {},
   "outputs": [],
   "source": [
    "def salescount(B12,B23):\n",
    "    var1,var2=1.1480768035775815,0.6320780098930814\n",
    "    return (var1*B12+var2*B23)/2."
   ]
  },
  {
   "cell_type": "markdown",
   "metadata": {},
   "source": [
    "### Second Fit attempt"
   ]
  },
  {
   "cell_type": "markdown",
   "metadata": {},
   "source": [
    "The above fit looks better, but there are some spikes in the data which might be skewing the data.\n",
    "\n",
    "It now looks like it could be overestimating sales a bit.\n",
    "\n",
    "So I will change the histogram to have fewer bins, to represent the seperate bands better."
   ]
  },
  {
   "cell_type": "code",
   "execution_count": 15,
   "metadata": {},
   "outputs": [
    {
     "name": "stderr",
     "output_type": "stream",
     "text": [
      "c:\\users\\joseph\\appdata\\local\\programs\\python\\python36\\lib\\site-packages\\ipykernel_launcher.py:6: DeprecationWarning: `factorial` is deprecated!\n",
      "Importing `factorial` from scipy.misc is deprecated in scipy 1.0.0. Use `scipy.special.factorial` instead.\n",
      "  \n"
     ]
    },
    {
     "name": "stdout",
     "output_type": "stream",
     "text": [
      "[[1.47753704e-03 1.45010203e-03 5.06281062e-01]\n",
      " [1.45010203e-03 1.42656876e-03 4.92806907e-01]\n",
      " [5.06281062e-01 4.92806907e-01 3.33597791e+02]] [9.93362585e+01 7.54055617e+01 1.06764638e+05]\n"
     ]
    },
    {
     "data": {
      "text/plain": [
       "[<matplotlib.lines.Line2D at 0x2544663dba8>]"
      ]
     },
     "execution_count": 15,
     "metadata": {},
     "output_type": "execute_result"
    },
    {
     "data": {
      "image/png": "[encoded data removed]",
      "text/plain": [
       "<Figure size 432x288 with 1 Axes>"
      ]
     },
     "metadata": {
      "needs_background": "light"
     },
     "output_type": "display_data"
    }
   ],
   "source": [
    "y,edges=np.histogram(data,bins=20)\n",
    "x1=(edges+((edges[1]-edges[0])/2.0))[:-1]\n",
    "df_forfit=pd.DataFrame(y,index=x1)\n",
    "df_forfit=df_forfit[df_forfit[0]!=0]\n",
    "y=df_forfit[0].values\n",
    "x1=df_forfit.index\n",
    "o0=[20.,30.,5.]\n",
    "errfunc = lambda o, x1, y: poisson(x1, o) - y # Distance to the target function, similar to def function.\n",
    "fulloutput = opt.leastsq(errfunc, o0[:], args=(x1, y), full_output=1) # p1 gives parameters\n",
    "o1=fulloutput[0]\n",
    "covmatrix=fulloutput[1]\n",
    "print(covmatrix,o1)\n",
    "plt.figure()\n",
    "plt.plot(x1,y)\n",
    "plt.plot(x1,poisson(x1,o1))"
   ]
  },
  {
   "cell_type": "markdown",
   "metadata": {},
   "source": [
    "Find the avg_price at different positions based on the fitted poisson."
   ]
  },
  {
   "cell_type": "code",
   "execution_count": 16,
   "metadata": {},
   "outputs": [
    {
     "name": "stdout",
     "output_type": "stream",
     "text": [
      "2958.1372018331476 4222.869023973748 2234.067044156569 479.14358103486694\n",
      "0.7552276624532916 0.5290400984433794\n"
     ]
    },
    {
     "name": "stderr",
     "output_type": "stream",
     "text": [
      "c:\\users\\joseph\\appdata\\local\\programs\\python\\python36\\lib\\site-packages\\ipykernel_launcher.py:6: DeprecationWarning: `factorial` is deprecated!\n",
      "Importing `factorial` from scipy.misc is deprecated in scipy 1.0.0. Use `scipy.special.factorial` instead.\n",
      "  \n"
     ]
    }
   ],
   "source": [
    "Band10_20_avg_price_count=poisson(15,o1)\n",
    "Band20_30_avg_price_count=poisson(25,o1)\n",
    "Band30_40_avg_price_count=poisson(35,o1)\n",
    "Band40_50_avg_price_count=poisson(45,o1)\n",
    "print(Band10_20_avg_price_count,Band20_30_avg_price_count,Band30_40_avg_price_count,Band40_50_avg_price_count)\n",
    "var1=Band30_40_avg_price_count/Band10_20_avg_price_count\n",
    "var2=Band30_40_avg_price_count/Band20_30_avg_price_count\n",
    "print(var1,var2)"
   ]
  },
  {
   "cell_type": "markdown",
   "metadata": {},
   "source": [
    "This now seems like a good model for estimating sales of the new line and will be implemented into notebook 5, 7 and 8."
   ]
  }
 ],
 "metadata": {
  "kernelspec": {
   "display_name": "Python 3",
   "language": "python",
   "name": "python3"
  },
  "language_info": {
   "codemirror_mode": {
    "name": "ipython",
    "version": 3
   },
   "file_extension": ".py",
   "mimetype": "text/x-python",
   "name": "python",
   "nbconvert_exporter": "python",
   "pygments_lexer": "ipython3",
   "version": "3.6.5"
  }
 },
 "nbformat": 4,
 "nbformat_minor": 2
}
