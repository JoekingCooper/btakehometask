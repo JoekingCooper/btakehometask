{
 "cells": [
  {
   "cell_type": "code",
   "execution_count": 2,
   "metadata": {},
   "outputs": [],
   "source": [
    "%matplotlib inline\n",
    "\n",
    "import matplotlib\n",
    "import matplotlib.pyplot as plt\n",
    "import numpy as np\n",
    "import pandas as pd\n",
    "from os import path\n",
    "pd.options.display.max_seq_items = 2000"
   ]
  },
  {
   "cell_type": "code",
   "execution_count": 3,
   "metadata": {},
   "outputs": [],
   "source": [
    "import pickle"
   ]
  },
  {
   "cell_type": "code",
   "execution_count": 4,
   "metadata": {},
   "outputs": [
    {
     "data": {
      "text/plain": [
       "True"
      ]
     },
     "execution_count": 4,
     "metadata": {},
     "output_type": "execute_result"
    }
   ],
   "source": [
    "path.isfile(r\"C:\\Users\\Joseph\\Documents\\Beamly\\TakeHomeTask\\beamly_case_study2.pickle\")"
   ]
  },
  {
   "cell_type": "code",
   "execution_count": 5,
   "metadata": {},
   "outputs": [],
   "source": [
    "openfile=open( r\"C:\\Users\\Joseph\\Documents\\Beamly\\TakeHomeTask\\beamly_case_study2.pickle\", \"rb\")\n",
    "df=pickle.load(openfile)\n",
    "openfile.close()"
   ]
  },
  {
   "cell_type": "code",
   "execution_count": 6,
   "metadata": {},
   "outputs": [
    {
     "data": {
      "text/plain": [
       "(27091, 13)"
      ]
     },
     "execution_count": 6,
     "metadata": {},
     "output_type": "execute_result"
    }
   ],
   "source": [
    "df.shape"
   ]
  },
  {
   "cell_type": "code",
   "execution_count": 7,
   "metadata": {},
   "outputs": [
    {
     "data": {
      "text/plain": [
       "Index(['date', 'avg_hour', 'min_hour', 'max_hour', 'device_name',\n",
       "       'productBand', 'avg_price', 'total_products', 'num_orders', 'city',\n",
       "       'region', 'County', 'Country'],\n",
       "      dtype='object')"
      ]
     },
     "execution_count": 7,
     "metadata": {},
     "output_type": "execute_result"
    }
   ],
   "source": [
    "df.columns"
   ]
  },
  {
   "cell_type": "code",
   "execution_count": 8,
   "metadata": {
    "scrolled": true
   },
   "outputs": [
    {
     "data": {
      "text/html": [
       "<div>\n",
       "<style scoped>\n",
       "    .dataframe tbody tr th:only-of-type {\n",
       "        vertical-align: middle;\n",
       "    }\n",
       "\n",
       "    .dataframe tbody tr th {\n",
       "        vertical-align: top;\n",
       "    }\n",
       "\n",
       "    .dataframe thead th {\n",
       "        text-align: right;\n",
       "    }\n",
       "</style>\n",
       "<table border=\"1\" class=\"dataframe\">\n",
       "  <thead>\n",
       "    <tr style=\"text-align: right;\">\n",
       "      <th></th>\n",
       "      <th>date</th>\n",
       "      <th>avg_hour</th>\n",
       "      <th>min_hour</th>\n",
       "      <th>max_hour</th>\n",
       "      <th>device_name</th>\n",
       "      <th>productBand</th>\n",
       "      <th>avg_price</th>\n",
       "      <th>total_products</th>\n",
       "      <th>num_orders</th>\n",
       "      <th>city</th>\n",
       "      <th>region</th>\n",
       "      <th>County</th>\n",
       "      <th>Country</th>\n",
       "    </tr>\n",
       "  </thead>\n",
       "  <tbody>\n",
       "    <tr>\n",
       "      <th>4212</th>\n",
       "      <td>2018-07-01</td>\n",
       "      <td>0.0</td>\n",
       "      <td>0</td>\n",
       "      <td>0</td>\n",
       "      <td>Tablet</td>\n",
       "      <td>between20and30</td>\n",
       "      <td>29.95</td>\n",
       "      <td>1.0</td>\n",
       "      <td>1</td>\n",
       "      <td>Leeds</td>\n",
       "      <td>Leeds</td>\n",
       "      <td>NaN</td>\n",
       "      <td>NaN</td>\n",
       "    </tr>\n",
       "    <tr>\n",
       "      <th>4644</th>\n",
       "      <td>2018-07-01</td>\n",
       "      <td>0.0</td>\n",
       "      <td>0</td>\n",
       "      <td>0</td>\n",
       "      <td>Desktop and Laptop</td>\n",
       "      <td>between20and30</td>\n",
       "      <td>24.95</td>\n",
       "      <td>1.0</td>\n",
       "      <td>1</td>\n",
       "      <td>Oldham</td>\n",
       "      <td>Oldham</td>\n",
       "      <td>NaN</td>\n",
       "      <td>NaN</td>\n",
       "    </tr>\n",
       "    <tr>\n",
       "      <th>4946</th>\n",
       "      <td>2018-07-01</td>\n",
       "      <td>0.0</td>\n",
       "      <td>0</td>\n",
       "      <td>0</td>\n",
       "      <td>Tablet</td>\n",
       "      <td>between20and30</td>\n",
       "      <td>23.95</td>\n",
       "      <td>1.0</td>\n",
       "      <td>1</td>\n",
       "      <td>Neath</td>\n",
       "      <td>Neath Port Talbot</td>\n",
       "      <td>NaN</td>\n",
       "      <td>NaN</td>\n",
       "    </tr>\n",
       "    <tr>\n",
       "      <th>7077</th>\n",
       "      <td>2018-07-01</td>\n",
       "      <td>0.0</td>\n",
       "      <td>0</td>\n",
       "      <td>0</td>\n",
       "      <td>Desktop and Laptop</td>\n",
       "      <td>between20and30</td>\n",
       "      <td>22.95</td>\n",
       "      <td>1.0</td>\n",
       "      <td>1</td>\n",
       "      <td>Tower Hamlets</td>\n",
       "      <td>Tower Hamlets</td>\n",
       "      <td>NaN</td>\n",
       "      <td>NaN</td>\n",
       "    </tr>\n",
       "    <tr>\n",
       "      <th>11286</th>\n",
       "      <td>2018-07-01</td>\n",
       "      <td>0.0</td>\n",
       "      <td>0</td>\n",
       "      <td>0</td>\n",
       "      <td>Desktop and Laptop</td>\n",
       "      <td>between20and30</td>\n",
       "      <td>23.95</td>\n",
       "      <td>1.0</td>\n",
       "      <td>1</td>\n",
       "      <td>Oxford</td>\n",
       "      <td>Oxfordshire</td>\n",
       "      <td>Oxfordshire</td>\n",
       "      <td>England</td>\n",
       "    </tr>\n",
       "    <tr>\n",
       "      <th>11334</th>\n",
       "      <td>2018-07-01</td>\n",
       "      <td>0.0</td>\n",
       "      <td>0</td>\n",
       "      <td>0</td>\n",
       "      <td>Desktop and Laptop</td>\n",
       "      <td>lessThan10</td>\n",
       "      <td>3.49</td>\n",
       "      <td>1.0</td>\n",
       "      <td>1</td>\n",
       "      <td>Rotherham</td>\n",
       "      <td>Rotherham</td>\n",
       "      <td>NaN</td>\n",
       "      <td>NaN</td>\n",
       "    </tr>\n",
       "    <tr>\n",
       "      <th>11367</th>\n",
       "      <td>2018-07-01</td>\n",
       "      <td>0.0</td>\n",
       "      <td>0</td>\n",
       "      <td>0</td>\n",
       "      <td>Desktop and Laptop</td>\n",
       "      <td>between10and20</td>\n",
       "      <td>19.95</td>\n",
       "      <td>1.0</td>\n",
       "      <td>1</td>\n",
       "      <td>Rotherham</td>\n",
       "      <td>Rotherham</td>\n",
       "      <td>NaN</td>\n",
       "      <td>NaN</td>\n",
       "    </tr>\n",
       "    <tr>\n",
       "      <th>13272</th>\n",
       "      <td>2018-07-01</td>\n",
       "      <td>0.0</td>\n",
       "      <td>0</td>\n",
       "      <td>0</td>\n",
       "      <td>Desktop and Laptop</td>\n",
       "      <td>between10and20</td>\n",
       "      <td>15.90</td>\n",
       "      <td>1.0</td>\n",
       "      <td>1</td>\n",
       "      <td>Skelmersdale</td>\n",
       "      <td>Lancashire</td>\n",
       "      <td>Lancashire</td>\n",
       "      <td>England</td>\n",
       "    </tr>\n",
       "    <tr>\n",
       "      <th>13891</th>\n",
       "      <td>2018-07-01</td>\n",
       "      <td>0.0</td>\n",
       "      <td>0</td>\n",
       "      <td>0</td>\n",
       "      <td>Mobile</td>\n",
       "      <td>lessThan10</td>\n",
       "      <td>1.50</td>\n",
       "      <td>1.0</td>\n",
       "      <td>1</td>\n",
       "      <td>Wolverton</td>\n",
       "      <td>Milton Keynes</td>\n",
       "      <td>NaN</td>\n",
       "      <td>NaN</td>\n",
       "    </tr>\n",
       "    <tr>\n",
       "      <th>13906</th>\n",
       "      <td>2018-07-01</td>\n",
       "      <td>0.0</td>\n",
       "      <td>0</td>\n",
       "      <td>0</td>\n",
       "      <td>Desktop and Laptop</td>\n",
       "      <td>between10and20</td>\n",
       "      <td>17.50</td>\n",
       "      <td>1.0</td>\n",
       "      <td>1</td>\n",
       "      <td>Orpington</td>\n",
       "      <td>Bromley</td>\n",
       "      <td>NaN</td>\n",
       "      <td>NaN</td>\n",
       "    </tr>\n",
       "    <tr>\n",
       "      <th>15805</th>\n",
       "      <td>2018-07-01</td>\n",
       "      <td>0.0</td>\n",
       "      <td>0</td>\n",
       "      <td>0</td>\n",
       "      <td>Desktop and Laptop</td>\n",
       "      <td>between20and30</td>\n",
       "      <td>25.99</td>\n",
       "      <td>1.0</td>\n",
       "      <td>1</td>\n",
       "      <td>Rochdale</td>\n",
       "      <td>Rochdale</td>\n",
       "      <td>NaN</td>\n",
       "      <td>NaN</td>\n",
       "    </tr>\n",
       "    <tr>\n",
       "      <th>15856</th>\n",
       "      <td>2018-07-01</td>\n",
       "      <td>0.0</td>\n",
       "      <td>0</td>\n",
       "      <td>0</td>\n",
       "      <td>Desktop and Laptop</td>\n",
       "      <td>between10and20</td>\n",
       "      <td>15.99</td>\n",
       "      <td>1.0</td>\n",
       "      <td>1</td>\n",
       "      <td>Rochdale</td>\n",
       "      <td>Rochdale</td>\n",
       "      <td>NaN</td>\n",
       "      <td>NaN</td>\n",
       "    </tr>\n",
       "    <tr>\n",
       "      <th>21090</th>\n",
       "      <td>2018-07-01</td>\n",
       "      <td>0.0</td>\n",
       "      <td>0</td>\n",
       "      <td>0</td>\n",
       "      <td>Desktop and Laptop</td>\n",
       "      <td>between20and30</td>\n",
       "      <td>22.95</td>\n",
       "      <td>1.0</td>\n",
       "      <td>1</td>\n",
       "      <td>Solihull</td>\n",
       "      <td>Solihull</td>\n",
       "      <td>NaN</td>\n",
       "      <td>NaN</td>\n",
       "    </tr>\n",
       "    <tr>\n",
       "      <th>21488</th>\n",
       "      <td>2018-07-01</td>\n",
       "      <td>0.0</td>\n",
       "      <td>0</td>\n",
       "      <td>0</td>\n",
       "      <td>Tablet</td>\n",
       "      <td>lessThan10</td>\n",
       "      <td>4.99</td>\n",
       "      <td>1.0</td>\n",
       "      <td>1</td>\n",
       "      <td>Gloucester</td>\n",
       "      <td>Gloucestershire</td>\n",
       "      <td>Gloucestershire</td>\n",
       "      <td>England</td>\n",
       "    </tr>\n",
       "    <tr>\n",
       "      <th>28583</th>\n",
       "      <td>2018-07-01</td>\n",
       "      <td>0.0</td>\n",
       "      <td>0</td>\n",
       "      <td>0</td>\n",
       "      <td>Mobile</td>\n",
       "      <td>between20and30</td>\n",
       "      <td>25.95</td>\n",
       "      <td>1.0</td>\n",
       "      <td>1</td>\n",
       "      <td>Woodlands</td>\n",
       "      <td>Doncaster</td>\n",
       "      <td>NaN</td>\n",
       "      <td>NaN</td>\n",
       "    </tr>\n",
       "    <tr>\n",
       "      <th>28584</th>\n",
       "      <td>2018-07-01</td>\n",
       "      <td>0.0</td>\n",
       "      <td>0</td>\n",
       "      <td>0</td>\n",
       "      <td>Mobile</td>\n",
       "      <td>lessThan10</td>\n",
       "      <td>8.50</td>\n",
       "      <td>1.0</td>\n",
       "      <td>1</td>\n",
       "      <td>Woodlands</td>\n",
       "      <td>Doncaster</td>\n",
       "      <td>NaN</td>\n",
       "      <td>NaN</td>\n",
       "    </tr>\n",
       "    <tr>\n",
       "      <th>28585</th>\n",
       "      <td>2018-07-01</td>\n",
       "      <td>0.0</td>\n",
       "      <td>0</td>\n",
       "      <td>0</td>\n",
       "      <td>Mobile</td>\n",
       "      <td>between10and20</td>\n",
       "      <td>15.95</td>\n",
       "      <td>2.0</td>\n",
       "      <td>1</td>\n",
       "      <td>Woodlands</td>\n",
       "      <td>Doncaster</td>\n",
       "      <td>NaN</td>\n",
       "      <td>NaN</td>\n",
       "    </tr>\n",
       "    <tr>\n",
       "      <th>28757</th>\n",
       "      <td>2018-07-01</td>\n",
       "      <td>0.0</td>\n",
       "      <td>0</td>\n",
       "      <td>0</td>\n",
       "      <td>Mobile</td>\n",
       "      <td>between10and20</td>\n",
       "      <td>15.95</td>\n",
       "      <td>3.0</td>\n",
       "      <td>1</td>\n",
       "      <td>Alexandria</td>\n",
       "      <td>West Dunbartonshire</td>\n",
       "      <td>NaN</td>\n",
       "      <td>NaN</td>\n",
       "    </tr>\n",
       "    <tr>\n",
       "      <th>30155</th>\n",
       "      <td>2018-07-01</td>\n",
       "      <td>0.0</td>\n",
       "      <td>0</td>\n",
       "      <td>0</td>\n",
       "      <td>Mobile</td>\n",
       "      <td>lessThan10</td>\n",
       "      <td>3.49</td>\n",
       "      <td>1.0</td>\n",
       "      <td>1</td>\n",
       "      <td>Blantyre</td>\n",
       "      <td>South Lanarkshire</td>\n",
       "      <td>NaN</td>\n",
       "      <td>NaN</td>\n",
       "    </tr>\n",
       "    <tr>\n",
       "      <th>32450</th>\n",
       "      <td>2018-07-01</td>\n",
       "      <td>0.0</td>\n",
       "      <td>0</td>\n",
       "      <td>0</td>\n",
       "      <td>Mobile</td>\n",
       "      <td>between20and30</td>\n",
       "      <td>24.95</td>\n",
       "      <td>1.0</td>\n",
       "      <td>1</td>\n",
       "      <td>Lighthorne</td>\n",
       "      <td>Warwickshire</td>\n",
       "      <td>Warwickshire</td>\n",
       "      <td>England</td>\n",
       "    </tr>\n",
       "  </tbody>\n",
       "</table>\n",
       "</div>"
      ],
      "text/plain": [
       "             date  avg_hour  min_hour  max_hour         device_name  \\\n",
       "4212   2018-07-01       0.0         0         0              Tablet   \n",
       "4644   2018-07-01       0.0         0         0  Desktop and Laptop   \n",
       "4946   2018-07-01       0.0         0         0              Tablet   \n",
       "7077   2018-07-01       0.0         0         0  Desktop and Laptop   \n",
       "11286  2018-07-01       0.0         0         0  Desktop and Laptop   \n",
       "11334  2018-07-01       0.0         0         0  Desktop and Laptop   \n",
       "11367  2018-07-01       0.0         0         0  Desktop and Laptop   \n",
       "13272  2018-07-01       0.0         0         0  Desktop and Laptop   \n",
       "13891  2018-07-01       0.0         0         0              Mobile   \n",
       "13906  2018-07-01       0.0         0         0  Desktop and Laptop   \n",
       "15805  2018-07-01       0.0         0         0  Desktop and Laptop   \n",
       "15856  2018-07-01       0.0         0         0  Desktop and Laptop   \n",
       "21090  2018-07-01       0.0         0         0  Desktop and Laptop   \n",
       "21488  2018-07-01       0.0         0         0              Tablet   \n",
       "28583  2018-07-01       0.0         0         0              Mobile   \n",
       "28584  2018-07-01       0.0         0         0              Mobile   \n",
       "28585  2018-07-01       0.0         0         0              Mobile   \n",
       "28757  2018-07-01       0.0         0         0              Mobile   \n",
       "30155  2018-07-01       0.0         0         0              Mobile   \n",
       "32450  2018-07-01       0.0         0         0              Mobile   \n",
       "\n",
       "          productBand  avg_price  total_products  num_orders           city  \\\n",
       "4212   between20and30      29.95             1.0           1          Leeds   \n",
       "4644   between20and30      24.95             1.0           1         Oldham   \n",
       "4946   between20and30      23.95             1.0           1          Neath   \n",
       "7077   between20and30      22.95             1.0           1  Tower Hamlets   \n",
       "11286  between20and30      23.95             1.0           1         Oxford   \n",
       "11334      lessThan10       3.49             1.0           1      Rotherham   \n",
       "11367  between10and20      19.95             1.0           1      Rotherham   \n",
       "13272  between10and20      15.90             1.0           1   Skelmersdale   \n",
       "13891      lessThan10       1.50             1.0           1      Wolverton   \n",
       "13906  between10and20      17.50             1.0           1      Orpington   \n",
       "15805  between20and30      25.99             1.0           1       Rochdale   \n",
       "15856  between10and20      15.99             1.0           1       Rochdale   \n",
       "21090  between20and30      22.95             1.0           1       Solihull   \n",
       "21488      lessThan10       4.99             1.0           1     Gloucester   \n",
       "28583  between20and30      25.95             1.0           1      Woodlands   \n",
       "28584      lessThan10       8.50             1.0           1      Woodlands   \n",
       "28585  between10and20      15.95             2.0           1      Woodlands   \n",
       "28757  between10and20      15.95             3.0           1     Alexandria   \n",
       "30155      lessThan10       3.49             1.0           1       Blantyre   \n",
       "32450  between20and30      24.95             1.0           1     Lighthorne   \n",
       "\n",
       "                    region           County  Country  \n",
       "4212                 Leeds              NaN      NaN  \n",
       "4644                Oldham              NaN      NaN  \n",
       "4946     Neath Port Talbot              NaN      NaN  \n",
       "7077         Tower Hamlets              NaN      NaN  \n",
       "11286          Oxfordshire      Oxfordshire  England  \n",
       "11334            Rotherham              NaN      NaN  \n",
       "11367            Rotherham              NaN      NaN  \n",
       "13272           Lancashire       Lancashire  England  \n",
       "13891        Milton Keynes              NaN      NaN  \n",
       "13906              Bromley              NaN      NaN  \n",
       "15805             Rochdale              NaN      NaN  \n",
       "15856             Rochdale              NaN      NaN  \n",
       "21090             Solihull              NaN      NaN  \n",
       "21488      Gloucestershire  Gloucestershire  England  \n",
       "28583            Doncaster              NaN      NaN  \n",
       "28584            Doncaster              NaN      NaN  \n",
       "28585            Doncaster              NaN      NaN  \n",
       "28757  West Dunbartonshire              NaN      NaN  \n",
       "30155    South Lanarkshire              NaN      NaN  \n",
       "32450         Warwickshire     Warwickshire  England  "
      ]
     },
     "execution_count": 8,
     "metadata": {},
     "output_type": "execute_result"
    }
   ],
   "source": [
    "df.sort_values(['date','avg_hour'],ascending=[True,True]).head(20)"
   ]
  },
  {
   "cell_type": "code",
   "execution_count": 9,
   "metadata": {},
   "outputs": [
    {
     "data": {
      "text/plain": [
       "array(['Mobile', 'Desktop and Laptop', 'Tablet', 'Unknown'], dtype=object)"
      ]
     },
     "execution_count": 9,
     "metadata": {},
     "output_type": "execute_result"
    }
   ],
   "source": [
    "df['device_name'].unique()"
   ]
  },
  {
   "cell_type": "code",
   "execution_count": 10,
   "metadata": {},
   "outputs": [
    {
     "data": {
      "text/html": [
       "<div>\n",
       "<style scoped>\n",
       "    .dataframe tbody tr th:only-of-type {\n",
       "        vertical-align: middle;\n",
       "    }\n",
       "\n",
       "    .dataframe tbody tr th {\n",
       "        vertical-align: top;\n",
       "    }\n",
       "\n",
       "    .dataframe thead th {\n",
       "        text-align: right;\n",
       "    }\n",
       "</style>\n",
       "<table border=\"1\" class=\"dataframe\">\n",
       "  <thead>\n",
       "    <tr style=\"text-align: right;\">\n",
       "      <th></th>\n",
       "      <th>date</th>\n",
       "      <th>avg_hour</th>\n",
       "      <th>min_hour</th>\n",
       "      <th>max_hour</th>\n",
       "      <th>productBand</th>\n",
       "      <th>avg_price</th>\n",
       "      <th>total_products</th>\n",
       "      <th>num_orders</th>\n",
       "      <th>city</th>\n",
       "      <th>region</th>\n",
       "      <th>County</th>\n",
       "      <th>Country</th>\n",
       "    </tr>\n",
       "    <tr>\n",
       "      <th>device_name</th>\n",
       "      <th></th>\n",
       "      <th></th>\n",
       "      <th></th>\n",
       "      <th></th>\n",
       "      <th></th>\n",
       "      <th></th>\n",
       "      <th></th>\n",
       "      <th></th>\n",
       "      <th></th>\n",
       "      <th></th>\n",
       "      <th></th>\n",
       "      <th></th>\n",
       "    </tr>\n",
       "  </thead>\n",
       "  <tbody>\n",
       "    <tr>\n",
       "      <th>Desktop and Laptop</th>\n",
       "      <td>7410</td>\n",
       "      <td>7410</td>\n",
       "      <td>7410</td>\n",
       "      <td>7410</td>\n",
       "      <td>7410</td>\n",
       "      <td>7123</td>\n",
       "      <td>7410</td>\n",
       "      <td>7410</td>\n",
       "      <td>7410</td>\n",
       "      <td>7410</td>\n",
       "      <td>2768</td>\n",
       "      <td>2768</td>\n",
       "    </tr>\n",
       "    <tr>\n",
       "      <th>Mobile</th>\n",
       "      <td>15440</td>\n",
       "      <td>15440</td>\n",
       "      <td>15440</td>\n",
       "      <td>15440</td>\n",
       "      <td>15440</td>\n",
       "      <td>14675</td>\n",
       "      <td>13449</td>\n",
       "      <td>15440</td>\n",
       "      <td>15440</td>\n",
       "      <td>15440</td>\n",
       "      <td>5824</td>\n",
       "      <td>5824</td>\n",
       "    </tr>\n",
       "    <tr>\n",
       "      <th>Tablet</th>\n",
       "      <td>4118</td>\n",
       "      <td>4118</td>\n",
       "      <td>4118</td>\n",
       "      <td>4118</td>\n",
       "      <td>4118</td>\n",
       "      <td>3935</td>\n",
       "      <td>4118</td>\n",
       "      <td>4118</td>\n",
       "      <td>4118</td>\n",
       "      <td>4118</td>\n",
       "      <td>1769</td>\n",
       "      <td>1769</td>\n",
       "    </tr>\n",
       "    <tr>\n",
       "      <th>Unknown</th>\n",
       "      <td>123</td>\n",
       "      <td>123</td>\n",
       "      <td>123</td>\n",
       "      <td>123</td>\n",
       "      <td>123</td>\n",
       "      <td>120</td>\n",
       "      <td>123</td>\n",
       "      <td>123</td>\n",
       "      <td>123</td>\n",
       "      <td>123</td>\n",
       "      <td>45</td>\n",
       "      <td>45</td>\n",
       "    </tr>\n",
       "  </tbody>\n",
       "</table>\n",
       "</div>"
      ],
      "text/plain": [
       "                     date  avg_hour  min_hour  max_hour  productBand  \\\n",
       "device_name                                                            \n",
       "Desktop and Laptop   7410      7410      7410      7410         7410   \n",
       "Mobile              15440     15440     15440     15440        15440   \n",
       "Tablet               4118      4118      4118      4118         4118   \n",
       "Unknown               123       123       123       123          123   \n",
       "\n",
       "                    avg_price  total_products  num_orders   city  region  \\\n",
       "device_name                                                                \n",
       "Desktop and Laptop       7123            7410        7410   7410    7410   \n",
       "Mobile                  14675           13449       15440  15440   15440   \n",
       "Tablet                   3935            4118        4118   4118    4118   \n",
       "Unknown                   120             123         123    123     123   \n",
       "\n",
       "                    County  Country  \n",
       "device_name                          \n",
       "Desktop and Laptop    2768     2768  \n",
       "Mobile                5824     5824  \n",
       "Tablet                1769     1769  \n",
       "Unknown                 45       45  "
      ]
     },
     "execution_count": 10,
     "metadata": {},
     "output_type": "execute_result"
    }
   ],
   "source": [
    "df.groupby(['device_name']).count()"
   ]
  },
  {
   "cell_type": "code",
   "execution_count": 11,
   "metadata": {},
   "outputs": [
    {
     "data": {
      "text/plain": [
       "date              False\n",
       "avg_hour          False\n",
       "min_hour          False\n",
       "max_hour          False\n",
       "device_name       False\n",
       "productBand       False\n",
       "avg_price          True\n",
       "total_products     True\n",
       "num_orders        False\n",
       "city              False\n",
       "region            False\n",
       "County             True\n",
       "Country            True\n",
       "dtype: bool"
      ]
     },
     "execution_count": 11,
     "metadata": {},
     "output_type": "execute_result"
    }
   ],
   "source": [
    "df.isnull().any()"
   ]
  },
  {
   "cell_type": "markdown",
   "metadata": {},
   "source": [
    "Clearly there are some NaNs in the data, mobile is most dominant dataset."
   ]
  },
  {
   "cell_type": "markdown",
   "metadata": {},
   "source": [
    "#### Note on Nans\n",
    "\n",
    "Nans exist in the following columns and need to be imputed: avg_price, total_products, County, Country\n"
   ]
  },
  {
   "cell_type": "markdown",
   "metadata": {},
   "source": [
    " Start with something 'easy' or not too important. Want to think about how could impute Country/County, so look to see if city or region can help."
   ]
  },
  {
   "cell_type": "markdown",
   "metadata": {},
   "source": [
    "### Data Exploration\n",
    "A bit more exploration of the data before imputing"
   ]
  },
  {
   "cell_type": "code",
   "execution_count": 12,
   "metadata": {},
   "outputs": [
    {
     "data": {
      "text/plain": [
       "<matplotlib.axes._subplots.AxesSubplot at 0x16d4d3cdb00>"
      ]
     },
     "execution_count": 12,
     "metadata": {},
     "output_type": "execute_result"
    },
    {
     "data": {
      "image/png": "[encoded data removed]",
      "text/plain": [
       "<Figure size 432x288 with 1 Axes>"
      ]
     },
     "metadata": {
      "needs_background": "light"
     },
     "output_type": "display_data"
    }
   ],
   "source": [
    "df['avg_price'].hist(bins=40)"
   ]
  },
  {
   "cell_type": "markdown",
   "metadata": {},
   "source": [
    "Presuming our customers buy products in a normal distribution, we can make a simple estimate to forcast sales for a particular pricing band using just this histogram, although it is a crude estimate."
   ]
  },
  {
   "cell_type": "code",
   "execution_count": 13,
   "metadata": {},
   "outputs": [
    {
     "data": {
      "text/plain": [
       "<matplotlib.axes._subplots.AxesSubplot at 0x16d4d7ee780>"
      ]
     },
     "execution_count": 13,
     "metadata": {},
     "output_type": "execute_result"
    },
    {
     "data": {
      "image/png": "[encoded data removed]",
      "text/plain": [
       "<Figure size 432x288 with 1 Axes>"
      ]
     },
     "metadata": {
      "needs_background": "light"
     },
     "output_type": "display_data"
    }
   ],
   "source": [
    "df.groupby(['productBand']).count()['date'].plot.bar()"
   ]
  },
  {
   "cell_type": "markdown",
   "metadata": {},
   "source": [
    "The exercise says 'One of the brands that we work with has a catalogue of products with different prices, but none of them are within the range between 20 and 30 pounds. This particular brand wants to fill the gap in this price range by releasing a new line.' but I think that it's supposed to be 30-40 that is missing."
   ]
  },
  {
   "cell_type": "code",
   "execution_count": 14,
   "metadata": {},
   "outputs": [
    {
     "data": {
      "text/plain": [
       "<matplotlib.axes._subplots.AxesSubplot at 0x16d4fcce9b0>"
      ]
     },
     "execution_count": 14,
     "metadata": {},
     "output_type": "execute_result"
    },
    {
     "data": {
      "image/png": "[encoded data removed]",
      "text/plain": [
       "<Figure size 432x288 with 1 Axes>"
      ]
     },
     "metadata": {
      "needs_background": "light"
     },
     "output_type": "display_data"
    }
   ],
   "source": [
    "df.groupby(['productBand']).count()['city'].plot.bar()"
   ]
  },
  {
   "cell_type": "code",
   "execution_count": 15,
   "metadata": {},
   "outputs": [
    {
     "data": {
      "text/plain": [
       "<matplotlib.axes._subplots.AxesSubplot at 0x16d4fd328d0>"
      ]
     },
     "execution_count": 15,
     "metadata": {},
     "output_type": "execute_result"
    },
    {
     "data": {
      "image/png": "[encoded data removed]",
      "text/plain": [
       "<Figure size 432x288 with 1 Axes>"
      ]
     },
     "metadata": {
      "needs_background": "light"
     },
     "output_type": "display_data"
    }
   ],
   "source": [
    "df.groupby(['Country'])['County'].count().plot.bar()"
   ]
  },
  {
   "cell_type": "code",
   "execution_count": 16,
   "metadata": {},
   "outputs": [
    {
     "data": {
      "text/plain": [
       "<matplotlib.axes._subplots.AxesSubplot at 0x16d4fd8def0>"
      ]
     },
     "execution_count": 16,
     "metadata": {},
     "output_type": "execute_result"
    },
    {
     "data": {
      "image/png": "[encoded data removed]",
      "text/plain": [
       "<Figure size 432x288 with 1 Axes>"
      ]
     },
     "metadata": {
      "needs_background": "light"
     },
     "output_type": "display_data"
    }
   ],
   "source": [
    "df['total_products'].hist(bins=100)"
   ]
  },
  {
   "cell_type": "code",
   "execution_count": null,
   "metadata": {},
   "outputs": [],
   "source": []
  },
  {
   "cell_type": "code",
   "execution_count": 17,
   "metadata": {},
   "outputs": [
    {
     "data": {
      "image/png": "[encoded data removed]",
      "text/plain": [
       "<Figure size 1296x432 with 1 Axes>"
      ]
     },
     "metadata": {
      "needs_background": "light"
     },
     "output_type": "display_data"
    }
   ],
   "source": [
    "f, ax = plt.subplots(1,figsize=(18,6))\n",
    "\n",
    "device_date=df.groupby(by=['device_name', 'date']).sum()['total_products'].unstack(0).plot(kind='bar', ax=ax)\n"
   ]
  },
  {
   "cell_type": "code",
   "execution_count": 19,
   "metadata": {},
   "outputs": [
    {
     "data": {
      "image/png": "[encoded data removed]",
      "text/plain": [
       "<Figure size 1296x432 with 1 Axes>"
      ]
     },
     "metadata": {
      "needs_background": "light"
     },
     "output_type": "display_data"
    }
   ],
   "source": [
    "f, ax = plt.subplots(1,figsize=(18,6))\n",
    "\n",
    "device_date=df.groupby(by=['device_name', 'date']).sum()['avg_price'].unstack(0).plot(kind='bar', ax=ax)"
   ]
  },
  {
   "cell_type": "code",
   "execution_count": 18,
   "metadata": {},
   "outputs": [
    {
     "data": {
      "image/png": "[encoded data removed]",
      "text/plain": [
       "<Figure size 1296x432 with 1 Axes>"
      ]
     },
     "metadata": {
      "needs_background": "light"
     },
     "output_type": "display_data"
    }
   ],
   "source": [
    "f, ax = plt.subplots(1,figsize=(18,6))\n",
    "\n",
    "device_date=df.groupby(by=['productBand', 'date']).sum()['total_products'].unstack(0).plot(kind='bar', ax=ax)\n"
   ]
  },
  {
   "cell_type": "code",
   "execution_count": null,
   "metadata": {},
   "outputs": [],
   "source": []
  }
 ],
 "metadata": {
  "kernelspec": {
   "display_name": "Python 3",
   "language": "python",
   "name": "python3"
  },
  "language_info": {
   "codemirror_mode": {
    "name": "ipython",
    "version": 3
   },
   "file_extension": ".py",
   "mimetype": "text/x-python",
   "name": "python",
   "nbconvert_exporter": "python",
   "pygments_lexer": "ipython3",
   "version": "3.6.5"
  }
 },
 "nbformat": 4,
 "nbformat_minor": 2
}
