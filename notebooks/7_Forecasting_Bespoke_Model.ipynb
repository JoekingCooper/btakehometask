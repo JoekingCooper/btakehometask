{
 "cells": [
  {
   "cell_type": "markdown",
   "metadata": {},
   "source": [
    "# Forecasting with a Bespoke Model\n",
    "Now that I have a basic model working, I wanted to try something more involved. The next method for forecasting sales that should be used is to use a bespoke time-series model.\n",
    "\n",
    "In this case I model the current dataset and try to predict using that model. I decided to fit multiple sine functions to the data, to represent the weekly and monthly trends. This is done in quite a simplistic but novel way but dampening noise in different ways using a moving average function. This makes long term trends and short term trends easier to see.\n"
   ]
  },
  {
   "cell_type": "markdown",
   "metadata": {},
   "source": [
    "### Import packages, read pickle file"
   ]
  },
  {
   "cell_type": "code",
   "execution_count": 1,
   "metadata": {},
   "outputs": [],
   "source": [
    "%matplotlib inline\n",
    "\n",
    "import matplotlib\n",
    "import matplotlib.pyplot as plt\n",
    "import numpy as np\n",
    "import pandas as pd\n",
    "from os import path\n",
    "import pickle\n",
    "import scipy.optimize as opt\n",
    "pd.options.display.max_seq_items = 2000"
   ]
  },
  {
   "cell_type": "code",
   "execution_count": 2,
   "metadata": {},
   "outputs": [],
   "source": [
    "openfile=open( r\"C:\\Users\\Joseph\\Documents\\Beamly\\TakeHomeTask\\beamly_case_study_noNaNs.pickle\", \"rb\")\n",
    "df=pickle.load(openfile)\n",
    "openfile.close()"
   ]
  },
  {
   "cell_type": "markdown",
   "metadata": {},
   "source": [
    "### Impute missing product band\n",
    "\n",
    "create the function using values fitted in notebook 5, then apply that funciton to create a new column containing the new product band sales (for 30to40). Check the header to see if values have been created correctly."
   ]
  },
  {
   "cell_type": "code",
   "execution_count": 3,
   "metadata": {},
   "outputs": [],
   "source": [
    "\n",
    "def salescount_poisson(B12,B23):\n",
    "    \"\"\"\n",
    "    Function to estimate sales for the productBand 30to40 using two other product bands.\n",
    "    \"\"\"\n",
    "    var1,var2=0.7552276624532916,0.5290400984433794\n",
    "    return (var1*B12+var2*B23)/2.\n"
   ]
  },
  {
   "cell_type": "code",
   "execution_count": 4,
   "metadata": {},
   "outputs": [
    {
     "data": {
      "text/html": [
       "<div>\n",
       "<style scoped>\n",
       "    .dataframe tbody tr th:only-of-type {\n",
       "        vertical-align: middle;\n",
       "    }\n",
       "\n",
       "    .dataframe tbody tr th {\n",
       "        vertical-align: top;\n",
       "    }\n",
       "\n",
       "    .dataframe thead th {\n",
       "        text-align: right;\n",
       "    }\n",
       "</style>\n",
       "<table border=\"1\" class=\"dataframe\">\n",
       "  <thead>\n",
       "    <tr style=\"text-align: right;\">\n",
       "      <th>productBand</th>\n",
       "      <th>between10and20</th>\n",
       "      <th>between20and30</th>\n",
       "      <th>between40and50</th>\n",
       "      <th>lessThan10</th>\n",
       "      <th>moreThan50</th>\n",
       "      <th>price_missing</th>\n",
       "      <th>between30and40</th>\n",
       "    </tr>\n",
       "    <tr>\n",
       "      <th>date</th>\n",
       "      <th></th>\n",
       "      <th></th>\n",
       "      <th></th>\n",
       "      <th></th>\n",
       "      <th></th>\n",
       "      <th></th>\n",
       "      <th></th>\n",
       "    </tr>\n",
       "  </thead>\n",
       "  <tbody>\n",
       "    <tr>\n",
       "      <th>2018-07-01</th>\n",
       "      <td>219.0</td>\n",
       "      <td>230.0</td>\n",
       "      <td>41.0</td>\n",
       "      <td>160.0</td>\n",
       "      <td>18.0</td>\n",
       "      <td>42.0</td>\n",
       "      <td>143.537040</td>\n",
       "    </tr>\n",
       "    <tr>\n",
       "      <th>2018-07-02</th>\n",
       "      <td>247.0</td>\n",
       "      <td>269.0</td>\n",
       "      <td>32.0</td>\n",
       "      <td>195.0</td>\n",
       "      <td>32.0</td>\n",
       "      <td>60.0</td>\n",
       "      <td>164.426510</td>\n",
       "    </tr>\n",
       "    <tr>\n",
       "      <th>2018-07-03</th>\n",
       "      <td>246.0</td>\n",
       "      <td>286.0</td>\n",
       "      <td>22.0</td>\n",
       "      <td>121.0</td>\n",
       "      <td>26.0</td>\n",
       "      <td>55.0</td>\n",
       "      <td>168.545737</td>\n",
       "    </tr>\n",
       "    <tr>\n",
       "      <th>2018-07-04</th>\n",
       "      <td>206.0</td>\n",
       "      <td>250.0</td>\n",
       "      <td>28.0</td>\n",
       "      <td>182.0</td>\n",
       "      <td>17.0</td>\n",
       "      <td>52.0</td>\n",
       "      <td>143.918462</td>\n",
       "    </tr>\n",
       "    <tr>\n",
       "      <th>2018-07-05</th>\n",
       "      <td>242.0</td>\n",
       "      <td>271.0</td>\n",
       "      <td>47.0</td>\n",
       "      <td>179.0</td>\n",
       "      <td>27.0</td>\n",
       "      <td>51.0</td>\n",
       "      <td>163.067480</td>\n",
       "    </tr>\n",
       "    <tr>\n",
       "      <th>2018-07-06</th>\n",
       "      <td>188.0</td>\n",
       "      <td>231.0</td>\n",
       "      <td>41.0</td>\n",
       "      <td>172.0</td>\n",
       "      <td>26.0</td>\n",
       "      <td>46.0</td>\n",
       "      <td>132.095532</td>\n",
       "    </tr>\n",
       "    <tr>\n",
       "      <th>2018-07-07</th>\n",
       "      <td>204.0</td>\n",
       "      <td>233.0</td>\n",
       "      <td>34.0</td>\n",
       "      <td>162.0</td>\n",
       "      <td>8.0</td>\n",
       "      <td>18.0</td>\n",
       "      <td>138.666393</td>\n",
       "    </tr>\n",
       "    <tr>\n",
       "      <th>2018-07-08</th>\n",
       "      <td>216.0</td>\n",
       "      <td>239.0</td>\n",
       "      <td>39.0</td>\n",
       "      <td>156.0</td>\n",
       "      <td>21.0</td>\n",
       "      <td>21.0</td>\n",
       "      <td>144.784879</td>\n",
       "    </tr>\n",
       "    <tr>\n",
       "      <th>2018-07-09</th>\n",
       "      <td>256.0</td>\n",
       "      <td>298.0</td>\n",
       "      <td>52.0</td>\n",
       "      <td>257.0</td>\n",
       "      <td>25.0</td>\n",
       "      <td>35.0</td>\n",
       "      <td>175.496115</td>\n",
       "    </tr>\n",
       "    <tr>\n",
       "      <th>2018-07-10</th>\n",
       "      <td>205.0</td>\n",
       "      <td>317.0</td>\n",
       "      <td>54.0</td>\n",
       "      <td>191.0</td>\n",
       "      <td>35.0</td>\n",
       "      <td>39.0</td>\n",
       "      <td>161.263691</td>\n",
       "    </tr>\n",
       "    <tr>\n",
       "      <th>2018-07-11</th>\n",
       "      <td>207.0</td>\n",
       "      <td>319.0</td>\n",
       "      <td>44.0</td>\n",
       "      <td>155.0</td>\n",
       "      <td>15.0</td>\n",
       "      <td>24.0</td>\n",
       "      <td>162.547959</td>\n",
       "    </tr>\n",
       "    <tr>\n",
       "      <th>2018-07-12</th>\n",
       "      <td>259.0</td>\n",
       "      <td>282.0</td>\n",
       "      <td>45.0</td>\n",
       "      <td>215.0</td>\n",
       "      <td>28.0</td>\n",
       "      <td>37.0</td>\n",
       "      <td>172.396636</td>\n",
       "    </tr>\n",
       "    <tr>\n",
       "      <th>2018-07-13</th>\n",
       "      <td>199.0</td>\n",
       "      <td>290.0</td>\n",
       "      <td>41.0</td>\n",
       "      <td>151.0</td>\n",
       "      <td>22.0</td>\n",
       "      <td>28.0</td>\n",
       "      <td>151.855967</td>\n",
       "    </tr>\n",
       "    <tr>\n",
       "      <th>2018-07-14</th>\n",
       "      <td>202.0</td>\n",
       "      <td>367.0</td>\n",
       "      <td>36.0</td>\n",
       "      <td>183.0</td>\n",
       "      <td>50.0</td>\n",
       "      <td>34.0</td>\n",
       "      <td>173.356852</td>\n",
       "    </tr>\n",
       "    <tr>\n",
       "      <th>2018-07-15</th>\n",
       "      <td>237.0</td>\n",
       "      <td>350.0</td>\n",
       "      <td>54.0</td>\n",
       "      <td>172.0</td>\n",
       "      <td>50.0</td>\n",
       "      <td>29.0</td>\n",
       "      <td>182.076495</td>\n",
       "    </tr>\n",
       "    <tr>\n",
       "      <th>2018-07-16</th>\n",
       "      <td>303.0</td>\n",
       "      <td>413.0</td>\n",
       "      <td>56.0</td>\n",
       "      <td>208.0</td>\n",
       "      <td>31.0</td>\n",
       "      <td>23.0</td>\n",
       "      <td>223.663771</td>\n",
       "    </tr>\n",
       "    <tr>\n",
       "      <th>2018-07-17</th>\n",
       "      <td>401.0</td>\n",
       "      <td>587.0</td>\n",
       "      <td>66.0</td>\n",
       "      <td>245.0</td>\n",
       "      <td>39.0</td>\n",
       "      <td>26.0</td>\n",
       "      <td>306.696415</td>\n",
       "    </tr>\n",
       "    <tr>\n",
       "      <th>2018-07-18</th>\n",
       "      <td>229.0</td>\n",
       "      <td>372.0</td>\n",
       "      <td>48.0</td>\n",
       "      <td>158.0</td>\n",
       "      <td>23.0</td>\n",
       "      <td>77.0</td>\n",
       "      <td>184.875026</td>\n",
       "    </tr>\n",
       "    <tr>\n",
       "      <th>2018-07-19</th>\n",
       "      <td>296.0</td>\n",
       "      <td>340.0</td>\n",
       "      <td>36.0</td>\n",
       "      <td>157.0</td>\n",
       "      <td>26.0</td>\n",
       "      <td>85.0</td>\n",
       "      <td>201.710511</td>\n",
       "    </tr>\n",
       "    <tr>\n",
       "      <th>2018-07-20</th>\n",
       "      <td>201.0</td>\n",
       "      <td>271.0</td>\n",
       "      <td>44.0</td>\n",
       "      <td>152.0</td>\n",
       "      <td>15.0</td>\n",
       "      <td>70.0</td>\n",
       "      <td>147.585313</td>\n",
       "    </tr>\n",
       "    <tr>\n",
       "      <th>2018-07-21</th>\n",
       "      <td>251.0</td>\n",
       "      <td>321.0</td>\n",
       "      <td>39.0</td>\n",
       "      <td>210.0</td>\n",
       "      <td>26.0</td>\n",
       "      <td>50.0</td>\n",
       "      <td>179.692007</td>\n",
       "    </tr>\n",
       "    <tr>\n",
       "      <th>2018-07-22</th>\n",
       "      <td>253.0</td>\n",
       "      <td>299.0</td>\n",
       "      <td>41.0</td>\n",
       "      <td>113.0</td>\n",
       "      <td>25.0</td>\n",
       "      <td>32.0</td>\n",
       "      <td>174.627794</td>\n",
       "    </tr>\n",
       "    <tr>\n",
       "      <th>2018-07-23</th>\n",
       "      <td>273.0</td>\n",
       "      <td>398.0</td>\n",
       "      <td>47.0</td>\n",
       "      <td>195.0</td>\n",
       "      <td>32.0</td>\n",
       "      <td>42.0</td>\n",
       "      <td>208.367556</td>\n",
       "    </tr>\n",
       "    <tr>\n",
       "      <th>2018-07-24</th>\n",
       "      <td>379.0</td>\n",
       "      <td>526.0</td>\n",
       "      <td>88.0</td>\n",
       "      <td>296.0</td>\n",
       "      <td>47.0</td>\n",
       "      <td>50.0</td>\n",
       "      <td>282.253188</td>\n",
       "    </tr>\n",
       "    <tr>\n",
       "      <th>2018-07-25</th>\n",
       "      <td>345.0</td>\n",
       "      <td>409.0</td>\n",
       "      <td>50.0</td>\n",
       "      <td>260.0</td>\n",
       "      <td>18.0</td>\n",
       "      <td>29.0</td>\n",
       "      <td>238.465472</td>\n",
       "    </tr>\n",
       "    <tr>\n",
       "      <th>2018-07-26</th>\n",
       "      <td>298.0</td>\n",
       "      <td>384.0</td>\n",
       "      <td>38.0</td>\n",
       "      <td>128.0</td>\n",
       "      <td>17.0</td>\n",
       "      <td>26.0</td>\n",
       "      <td>214.104621</td>\n",
       "    </tr>\n",
       "    <tr>\n",
       "      <th>2018-07-27</th>\n",
       "      <td>263.0</td>\n",
       "      <td>349.0</td>\n",
       "      <td>32.0</td>\n",
       "      <td>163.0</td>\n",
       "      <td>26.0</td>\n",
       "      <td>22.0</td>\n",
       "      <td>191.629935</td>\n",
       "    </tr>\n",
       "    <tr>\n",
       "      <th>2018-07-28</th>\n",
       "      <td>412.0</td>\n",
       "      <td>394.0</td>\n",
       "      <td>44.0</td>\n",
       "      <td>152.0</td>\n",
       "      <td>34.0</td>\n",
       "      <td>28.0</td>\n",
       "      <td>259.797798</td>\n",
       "    </tr>\n",
       "    <tr>\n",
       "      <th>2018-07-29</th>\n",
       "      <td>343.0</td>\n",
       "      <td>400.0</td>\n",
       "      <td>60.0</td>\n",
       "      <td>257.0</td>\n",
       "      <td>54.0</td>\n",
       "      <td>34.0</td>\n",
       "      <td>235.329564</td>\n",
       "    </tr>\n",
       "    <tr>\n",
       "      <th>2018-07-30</th>\n",
       "      <td>301.0</td>\n",
       "      <td>441.0</td>\n",
       "      <td>67.0</td>\n",
       "      <td>204.0</td>\n",
       "      <td>56.0</td>\n",
       "      <td>25.0</td>\n",
       "      <td>230.315105</td>\n",
       "    </tr>\n",
       "    <tr>\n",
       "      <th>2018-07-31</th>\n",
       "      <td>473.0</td>\n",
       "      <td>680.0</td>\n",
       "      <td>93.0</td>\n",
       "      <td>329.0</td>\n",
       "      <td>52.0</td>\n",
       "      <td>33.0</td>\n",
       "      <td>358.484976</td>\n",
       "    </tr>\n",
       "    <tr>\n",
       "      <th>2018-08-01</th>\n",
       "      <td>364.0</td>\n",
       "      <td>505.0</td>\n",
       "      <td>81.0</td>\n",
       "      <td>234.0</td>\n",
       "      <td>45.0</td>\n",
       "      <td>12.0</td>\n",
       "      <td>271.034059</td>\n",
       "    </tr>\n",
       "    <tr>\n",
       "      <th>2018-08-02</th>\n",
       "      <td>340.0</td>\n",
       "      <td>477.0</td>\n",
       "      <td>76.0</td>\n",
       "      <td>160.0</td>\n",
       "      <td>31.0</td>\n",
       "      <td>14.0</td>\n",
       "      <td>254.564766</td>\n",
       "    </tr>\n",
       "    <tr>\n",
       "      <th>2018-08-03</th>\n",
       "      <td>258.0</td>\n",
       "      <td>322.0</td>\n",
       "      <td>51.0</td>\n",
       "      <td>161.0</td>\n",
       "      <td>31.0</td>\n",
       "      <td>15.0</td>\n",
       "      <td>182.599824</td>\n",
       "    </tr>\n",
       "    <tr>\n",
       "      <th>2018-08-04</th>\n",
       "      <td>287.0</td>\n",
       "      <td>322.0</td>\n",
       "      <td>41.0</td>\n",
       "      <td>211.0</td>\n",
       "      <td>27.0</td>\n",
       "      <td>9.0</td>\n",
       "      <td>193.550625</td>\n",
       "    </tr>\n",
       "    <tr>\n",
       "      <th>2018-08-05</th>\n",
       "      <td>271.0</td>\n",
       "      <td>336.0</td>\n",
       "      <td>51.0</td>\n",
       "      <td>178.0</td>\n",
       "      <td>29.0</td>\n",
       "      <td>4.0</td>\n",
       "      <td>191.212085</td>\n",
       "    </tr>\n",
       "    <tr>\n",
       "      <th>2018-08-06</th>\n",
       "      <td>492.0</td>\n",
       "      <td>508.0</td>\n",
       "      <td>61.0</td>\n",
       "      <td>244.0</td>\n",
       "      <td>51.0</td>\n",
       "      <td>5.0</td>\n",
       "      <td>320.162190</td>\n",
       "    </tr>\n",
       "    <tr>\n",
       "      <th>2018-08-07</th>\n",
       "      <td>321.0</td>\n",
       "      <td>352.0</td>\n",
       "      <td>71.0</td>\n",
       "      <td>217.0</td>\n",
       "      <td>30.0</td>\n",
       "      <td>6.0</td>\n",
       "      <td>214.325097</td>\n",
       "    </tr>\n",
       "    <tr>\n",
       "      <th>2018-08-08</th>\n",
       "      <td>218.0</td>\n",
       "      <td>301.0</td>\n",
       "      <td>60.0</td>\n",
       "      <td>81.0</td>\n",
       "      <td>28.0</td>\n",
       "      <td>3.0</td>\n",
       "      <td>161.940350</td>\n",
       "    </tr>\n",
       "    <tr>\n",
       "      <th>2018-08-09</th>\n",
       "      <td>273.0</td>\n",
       "      <td>387.0</td>\n",
       "      <td>65.0</td>\n",
       "      <td>162.0</td>\n",
       "      <td>29.0</td>\n",
       "      <td>2.0</td>\n",
       "      <td>205.457835</td>\n",
       "    </tr>\n",
       "    <tr>\n",
       "      <th>2018-08-10</th>\n",
       "      <td>229.0</td>\n",
       "      <td>374.0</td>\n",
       "      <td>75.0</td>\n",
       "      <td>105.0</td>\n",
       "      <td>27.0</td>\n",
       "      <td>3.0</td>\n",
       "      <td>185.404066</td>\n",
       "    </tr>\n",
       "    <tr>\n",
       "      <th>2018-08-11</th>\n",
       "      <td>235.0</td>\n",
       "      <td>314.0</td>\n",
       "      <td>65.0</td>\n",
       "      <td>109.0</td>\n",
       "      <td>39.0</td>\n",
       "      <td>1.0</td>\n",
       "      <td>171.798546</td>\n",
       "    </tr>\n",
       "    <tr>\n",
       "      <th>2018-08-12</th>\n",
       "      <td>276.0</td>\n",
       "      <td>390.0</td>\n",
       "      <td>65.0</td>\n",
       "      <td>96.0</td>\n",
       "      <td>44.0</td>\n",
       "      <td>2.0</td>\n",
       "      <td>207.384237</td>\n",
       "    </tr>\n",
       "    <tr>\n",
       "      <th>2018-08-13</th>\n",
       "      <td>302.0</td>\n",
       "      <td>383.0</td>\n",
       "      <td>72.0</td>\n",
       "      <td>101.0</td>\n",
       "      <td>42.0</td>\n",
       "      <td>5.0</td>\n",
       "      <td>215.350556</td>\n",
       "    </tr>\n",
       "  </tbody>\n",
       "</table>\n",
       "</div>"
      ],
      "text/plain": [
       "productBand  between10and20  between20and30  between40and50  lessThan10  \\\n",
       "date                                                                      \n",
       "2018-07-01            219.0           230.0            41.0       160.0   \n",
       "2018-07-02            247.0           269.0            32.0       195.0   \n",
       "2018-07-03            246.0           286.0            22.0       121.0   \n",
       "2018-07-04            206.0           250.0            28.0       182.0   \n",
       "2018-07-05            242.0           271.0            47.0       179.0   \n",
       "2018-07-06            188.0           231.0            41.0       172.0   \n",
       "2018-07-07            204.0           233.0            34.0       162.0   \n",
       "2018-07-08            216.0           239.0            39.0       156.0   \n",
       "2018-07-09            256.0           298.0            52.0       257.0   \n",
       "2018-07-10            205.0           317.0            54.0       191.0   \n",
       "2018-07-11            207.0           319.0            44.0       155.0   \n",
       "2018-07-12            259.0           282.0            45.0       215.0   \n",
       "2018-07-13            199.0           290.0            41.0       151.0   \n",
       "2018-07-14            202.0           367.0            36.0       183.0   \n",
       "2018-07-15            237.0           350.0            54.0       172.0   \n",
       "2018-07-16            303.0           413.0            56.0       208.0   \n",
       "2018-07-17            401.0           587.0            66.0       245.0   \n",
       "2018-07-18            229.0           372.0            48.0       158.0   \n",
       "2018-07-19            296.0           340.0            36.0       157.0   \n",
       "2018-07-20            201.0           271.0            44.0       152.0   \n",
       "2018-07-21            251.0           321.0            39.0       210.0   \n",
       "2018-07-22            253.0           299.0            41.0       113.0   \n",
       "2018-07-23            273.0           398.0            47.0       195.0   \n",
       "2018-07-24            379.0           526.0            88.0       296.0   \n",
       "2018-07-25            345.0           409.0            50.0       260.0   \n",
       "2018-07-26            298.0           384.0            38.0       128.0   \n",
       "2018-07-27            263.0           349.0            32.0       163.0   \n",
       "2018-07-28            412.0           394.0            44.0       152.0   \n",
       "2018-07-29            343.0           400.0            60.0       257.0   \n",
       "2018-07-30            301.0           441.0            67.0       204.0   \n",
       "2018-07-31            473.0           680.0            93.0       329.0   \n",
       "2018-08-01            364.0           505.0            81.0       234.0   \n",
       "2018-08-02            340.0           477.0            76.0       160.0   \n",
       "2018-08-03            258.0           322.0            51.0       161.0   \n",
       "2018-08-04            287.0           322.0            41.0       211.0   \n",
       "2018-08-05            271.0           336.0            51.0       178.0   \n",
       "2018-08-06            492.0           508.0            61.0       244.0   \n",
       "2018-08-07            321.0           352.0            71.0       217.0   \n",
       "2018-08-08            218.0           301.0            60.0        81.0   \n",
       "2018-08-09            273.0           387.0            65.0       162.0   \n",
       "2018-08-10            229.0           374.0            75.0       105.0   \n",
       "2018-08-11            235.0           314.0            65.0       109.0   \n",
       "2018-08-12            276.0           390.0            65.0        96.0   \n",
       "2018-08-13            302.0           383.0            72.0       101.0   \n",
       "\n",
       "productBand  moreThan50  price_missing  between30and40  \n",
       "date                                                    \n",
       "2018-07-01         18.0           42.0      143.537040  \n",
       "2018-07-02         32.0           60.0      164.426510  \n",
       "2018-07-03         26.0           55.0      168.545737  \n",
       "2018-07-04         17.0           52.0      143.918462  \n",
       "2018-07-05         27.0           51.0      163.067480  \n",
       "2018-07-06         26.0           46.0      132.095532  \n",
       "2018-07-07          8.0           18.0      138.666393  \n",
       "2018-07-08         21.0           21.0      144.784879  \n",
       "2018-07-09         25.0           35.0      175.496115  \n",
       "2018-07-10         35.0           39.0      161.263691  \n",
       "2018-07-11         15.0           24.0      162.547959  \n",
       "2018-07-12         28.0           37.0      172.396636  \n",
       "2018-07-13         22.0           28.0      151.855967  \n",
       "2018-07-14         50.0           34.0      173.356852  \n",
       "2018-07-15         50.0           29.0      182.076495  \n",
       "2018-07-16         31.0           23.0      223.663771  \n",
       "2018-07-17         39.0           26.0      306.696415  \n",
       "2018-07-18         23.0           77.0      184.875026  \n",
       "2018-07-19         26.0           85.0      201.710511  \n",
       "2018-07-20         15.0           70.0      147.585313  \n",
       "2018-07-21         26.0           50.0      179.692007  \n",
       "2018-07-22         25.0           32.0      174.627794  \n",
       "2018-07-23         32.0           42.0      208.367556  \n",
       "2018-07-24         47.0           50.0      282.253188  \n",
       "2018-07-25         18.0           29.0      238.465472  \n",
       "2018-07-26         17.0           26.0      214.104621  \n",
       "2018-07-27         26.0           22.0      191.629935  \n",
       "2018-07-28         34.0           28.0      259.797798  \n",
       "2018-07-29         54.0           34.0      235.329564  \n",
       "2018-07-30         56.0           25.0      230.315105  \n",
       "2018-07-31         52.0           33.0      358.484976  \n",
       "2018-08-01         45.0           12.0      271.034059  \n",
       "2018-08-02         31.0           14.0      254.564766  \n",
       "2018-08-03         31.0           15.0      182.599824  \n",
       "2018-08-04         27.0            9.0      193.550625  \n",
       "2018-08-05         29.0            4.0      191.212085  \n",
       "2018-08-06         51.0            5.0      320.162190  \n",
       "2018-08-07         30.0            6.0      214.325097  \n",
       "2018-08-08         28.0            3.0      161.940350  \n",
       "2018-08-09         29.0            2.0      205.457835  \n",
       "2018-08-10         27.0            3.0      185.404066  \n",
       "2018-08-11         39.0            1.0      171.798546  \n",
       "2018-08-12         44.0            2.0      207.384237  \n",
       "2018-08-13         42.0            5.0      215.350556  "
      ]
     },
     "execution_count": 4,
     "metadata": {},
     "output_type": "execute_result"
    }
   ],
   "source": [
    "forecast_august=df.groupby(by=['productBand', 'date']).sum()['total_products'].unstack(0)\n",
    "forecast_august['between30and40']=forecast_august.apply(lambda x:salescount_poisson(x['between10and20'],x['between20and30']),axis=1)\n",
    "forecast_august.drop(forecast_august.index[len(forecast_august)-1],inplace=True)\n",
    "forecast_august"
   ]
  },
  {
   "cell_type": "markdown",
   "metadata": {},
   "source": [
    "### Fitting the model\n",
    "The movingaverage function is more important in this model. It is used to smooth the data, so that monthly and weekly trends can be modeled one after the other."
   ]
  },
  {
   "cell_type": "code",
   "execution_count": 5,
   "metadata": {},
   "outputs": [],
   "source": [
    "def movingaverage(interval, window_size):\n",
    "    \"\"\" \n",
    "    A function to calculate a moving average, useful for looking at data trends and for dampening noise in a less artificial way.\n",
    "    \"\"\"\n",
    "    window= np.ones(int(window_size))/float(window_size)\n",
    "    return np.convolve(interval, window, 'same')"
   ]
  },
  {
   "cell_type": "markdown",
   "metadata": {},
   "source": [
    "## Forecast New Line\n",
    "first look at the current data for the new line. The sales for July and half of August are avalible for the new line, we just need to forecast for the last two weeks of august."
   ]
  },
  {
   "cell_type": "code",
   "execution_count": 6,
   "metadata": {},
   "outputs": [
    {
     "data": {
      "text/plain": [
       "[<matplotlib.lines.Line2D at 0x26d95b00978>]"
      ]
     },
     "execution_count": 6,
     "metadata": {},
     "output_type": "execute_result"
    },
    {
     "data": {
      "image/png": "[encoded data removed]",
      "text/plain": [
       "<Figure size 1296x432 with 1 Axes>"
      ]
     },
     "metadata": {
      "needs_background": "light"
     },
     "output_type": "display_data"
    }
   ],
   "source": [
    "f, ax = plt.subplots(1,figsize=(18,6))\n",
    "forecast_august['between30and40'].plot(kind='bar', ax=ax,color='blue',alpha=0.6,label='between30and40')\n",
    "move_av_30to40=movingaverage(forecast_august['between30and40'].values,4)\n",
    "ax.plot(move_av_30to40,color='blue')"
   ]
  },
  {
   "cell_type": "markdown",
   "metadata": {},
   "source": [
    "#### Forecast Model\n",
    "I use a simple sine function to model the trends."
   ]
  },
  {
   "cell_type": "code",
   "execution_count": 7,
   "metadata": {},
   "outputs": [],
   "source": [
    "def monthly_trend_forecaster(t,x):\n",
    "    \"\"\"\n",
    "    Simple sine function where:\n",
    "    - x[0]=ampitude\n",
    "    - x[1]=frequency\n",
    "    - x[2]=phase\n",
    "    - x[3]=mean (offset)\n",
    "    \"\"\"\n",
    "    return x[0]*np.sin(x[1]*t+x[2]) + x[3]"
   ]
  },
  {
   "cell_type": "markdown",
   "metadata": {},
   "source": [
    "Can't use date as the index, so reset index"
   ]
  },
  {
   "cell_type": "code",
   "execution_count": 8,
   "metadata": {},
   "outputs": [],
   "source": [
    "forecast_august.reset_index(inplace=True)"
   ]
  },
  {
   "cell_type": "markdown",
   "metadata": {},
   "source": [
    "First we want to forecast the more global trend, the model can be quite sensitive to the initial guess values (this is common for sin function fitting, where you need good guess values). The most important guess value is the frequency (guess_freq)."
   ]
  },
  {
   "cell_type": "code",
   "execution_count": 9,
   "metadata": {},
   "outputs": [
    {
     "name": "stdout",
     "output_type": "stream",
     "text": [
      "[-6.39074530e+01  9.86779146e-02 -4.29298086e+00  1.73352286e+02] [0.53500834 0.00078601 0.02181078 0.63348472]\n",
      "193.40301110216186\n"
     ]
    }
   ],
   "source": [
    "#between20and30 first\n",
    "y=movingaverage(forecast_august['between30and40'].values,6)\n",
    "x1=forecast_august.index\n",
    "guess_mean = np.mean(y)\n",
    "guess_std = 3*np.std(y)/(2**0.5)/(2**0.5)\n",
    "guess_phase = 0\n",
    "guess_freq = 0.3\n",
    "guess_amp = 1\n",
    "guess= [guess_amp, guess_freq, guess_phase, guess_mean]\n",
    "errfunc = lambda o, x1, y: monthly_trend_forecaster(x1,o) - y # Distance to the target function, through linear combination.\n",
    "fullout = opt.leastsq(errfunc, guess[:], args=(x1, y),full_output=1)\n",
    "o1,cov_o1,infodict,mesg,ier=fullout\n",
    "perr = np.sqrt(np.diag(cov_o1)) # error is equal to the diagonal of the covariance matrix.\n",
    "print(o1,perr)\n",
    "print(np.mean(y))"
   ]
  },
  {
   "cell_type": "markdown",
   "metadata": {},
   "source": [
    "Try to calculate a basic error for this calculation"
   ]
  },
  {
   "cell_type": "code",
   "execution_count": 10,
   "metadata": {},
   "outputs": [
    {
     "name": "stdout",
     "output_type": "stream",
     "text": [
      "0.016277449040313332\n"
     ]
    }
   ],
   "source": [
    "error_comb_o1=np.sqrt((perr[0]/o1[0])**2+(perr[1]/o1[1])**2+(perr[2]/o1[2])**2)+(perr[3]/o1[3])\n",
    "print(error_comb_o1)"
   ]
  },
  {
   "cell_type": "markdown",
   "metadata": {},
   "source": [
    "#### Plot the fitted global trend"
   ]
  },
  {
   "cell_type": "code",
   "execution_count": 11,
   "metadata": {},
   "outputs": [
    {
     "data": {
      "text/plain": [
       "[<matplotlib.lines.Line2D at 0x26d95f939b0>]"
      ]
     },
     "execution_count": 11,
     "metadata": {},
     "output_type": "execute_result"
    },
    {
     "data": {
      "image/png": "[encoded data removed]",
      "text/plain": [
       "<Figure size 1296x432 with 1 Axes>"
      ]
     },
     "metadata": {
      "needs_background": "light"
     },
     "output_type": "display_data"
    }
   ],
   "source": [
    "f, ax = plt.subplots(1,figsize=(18,6))\n",
    "forecast_august['between30and40'].plot(kind='bar', ax=ax,color='blue',alpha=0.6,label='between30and40')\n",
    "ax.plot(y,color='blue')\n",
    "ax.plot(x1,monthly_trend_forecaster(x1,o1),color='k')"
   ]
  },
  {
   "cell_type": "markdown",
   "metadata": {},
   "source": [
    "#### Model short term trend\n",
    "Now want to model the short term trend using a smaller moving average smooth. the frequency is also set to be larger.\n"
   ]
  },
  {
   "cell_type": "code",
   "execution_count": 25,
   "metadata": {},
   "outputs": [
    {
     "name": "stdout",
     "output_type": "stream",
     "text": [
      "[ 31.27749142   0.92703647  -1.35993183 197.7715822 ] [[ 4.56080589e-02 -4.79530431e-06  1.03809143e-04  6.36301436e-04]\n",
      " [-4.79530431e-06  2.88493349e-07 -6.29788265e-06  2.34550713e-08]\n",
      " [ 1.03809143e-04 -6.29788265e-06  1.84113362e-04 -7.17871218e-05]\n",
      " [ 6.36301436e-04  2.34550713e-08 -7.17871218e-05  2.28450892e-02]]\n",
      "197.33508537980117\n"
     ]
    },
    {
     "data": {
      "text/plain": [
       "[<matplotlib.lines.Line2D at 0x26d99d75ef0>]"
      ]
     },
     "execution_count": 25,
     "metadata": {},
     "output_type": "execute_result"
    },
    {
     "data": {
      "image/png": "[encoded data removed]",
      "text/plain": [
       "<Figure size 1296x432 with 1 Axes>"
      ]
     },
     "metadata": {
      "needs_background": "light"
     },
     "output_type": "display_data"
    }
   ],
   "source": [
    "#between20and30 first\n",
    "move_av_30to40=movingaverage(forecast_august['between30and40'].values,2)\n",
    "y=move_av_30to40\n",
    "x1=forecast_august.index\n",
    "guess_mean = np.mean(y)\n",
    "guess_std = 3*np.std(y)/(2**0.5)/(2**0.5)\n",
    "guess_phase = 0\n",
    "guess_freq = 0.8\n",
    "guess_amp = 1\n",
    "guess= [guess_amp, guess_freq, guess_phase, guess_mean]\n",
    "errfunc = lambda o, x1, y: monthly_trend_forecaster(x1,o) - y # Distance to the target function, through linear combination.\n",
    "fullout = opt.leastsq(errfunc, guess[:], args=(x1, y),full_output=1)\n",
    "o2,cov_o2,infodict,mesg,ier=fullout\n",
    "perr2 = np.sqrt(np.diag(cov_o2))\n",
    "print(o2,cov_o2)\n",
    "print(np.mean(y))\n",
    "f, ax = plt.subplots(1,figsize=(18,6))\n",
    "forecast_august['between30and40'].plot(kind='bar', ax=ax,color='blue',alpha=0.6,label='between30and40')\n",
    "ax.plot(move_av_30to40,color='blue')\n",
    "ax.plot(x1,monthly_trend_forecaster(x1,o2),color='k')"
   ]
  },
  {
   "cell_type": "markdown",
   "metadata": {},
   "source": [
    "Again, try to give a crude estimate of the errror"
   ]
  },
  {
   "cell_type": "code",
   "execution_count": 26,
   "metadata": {},
   "outputs": [
    {
     "name": "stdout",
     "output_type": "stream",
     "text": [
      "0.012868315343214741\n"
     ]
    }
   ],
   "source": [
    "error_comb_o2=np.sqrt((perr2[0]/o2[0])**2+(perr2[1]/o2[1])**2+(perr2[2]/o2[2])**2)+(perr2[3]/o2[3])\n",
    "print(error_comb_o2)"
   ]
  },
  {
   "cell_type": "markdown",
   "metadata": {},
   "source": [
    "## Combined Forecasting Model\n"
   ]
  },
  {
   "cell_type": "markdown",
   "metadata": {},
   "source": [
    "Combine the error from the two models, as these models will need to be combined later anyway."
   ]
  },
  {
   "cell_type": "code",
   "execution_count": 27,
   "metadata": {},
   "outputs": [],
   "source": [
    "error_percent_tot=np.sqrt(error_comb_o1**2+error_comb_o2**2)"
   ]
  },
  {
   "cell_type": "markdown",
   "metadata": {},
   "source": [
    "Combine the two fitted sine functions to give the forecasting model and plot that model."
   ]
  },
  {
   "cell_type": "code",
   "execution_count": 28,
   "metadata": {},
   "outputs": [
    {
     "data": {
      "text/plain": [
       "[<matplotlib.lines.Line2D at 0x26d9a4b8588>]"
      ]
     },
     "execution_count": 28,
     "metadata": {},
     "output_type": "execute_result"
    },
    {
     "data": {
      "image/png": "[encoded data removed]",
      "text/plain": [
       "<Figure size 1296x432 with 1 Axes>"
      ]
     },
     "metadata": {
      "needs_background": "light"
     },
     "output_type": "display_data"
    }
   ],
   "source": [
    "#def comb_func(x1,o1,o2):\n",
    "#    return (monthly_trend_forecaster(x1,o1)+monthly_trend_forecaster(x1,o2))/2.#This dampens the signal a little, better to use the lower function\n",
    "def comb_func(x1,o1,o2):\n",
    "    return (monthly_trend_forecaster(x1,o1)*monthly_trend_forecaster(x1,o2))/np.mean(monthly_trend_forecaster(x1,o2))\n",
    "f, ax = plt.subplots(1,figsize=(18,6))\n",
    "forecast_august['between30and40'].plot(kind='bar', ax=ax,color='blue',alpha=0.6,label='between30and40')\n",
    "ax.plot(move_av_30to40,color='blue')\n",
    "ax.plot(x1,comb_func(x1,o1,o2),color='k')"
   ]
  },
  {
   "cell_type": "markdown",
   "metadata": {},
   "source": [
    "## Forecast Sales for last two weeks\n",
    "Now we have modelled the current dataset, we can use this to predict the sales in the future for any productBand. Although we will just do the band 30to40.\n",
    "\n",
    "\n",
    "##### Note: \n",
    "The model does not use the timestamp, but just day, starting from 0. We want to model the last two weeks of August, in coding terms this is from days 44->60"
   ]
  },
  {
   "cell_type": "markdown",
   "metadata": {},
   "source": [
    "Create an array with the new days, then model the total product sales"
   ]
  },
  {
   "cell_type": "code",
   "execution_count": 29,
   "metadata": {},
   "outputs": [],
   "source": [
    "newdates=np.arange(44,61,1)\n",
    "b34sales=comb_func(newdates,o1,o2)"
   ]
  },
  {
   "cell_type": "markdown",
   "metadata": {},
   "source": [
    "Create a dataframe from this."
   ]
  },
  {
   "cell_type": "code",
   "execution_count": 30,
   "metadata": {},
   "outputs": [
    {
     "data": {
      "text/html": [
       "<div>\n",
       "<style scoped>\n",
       "    .dataframe tbody tr th:only-of-type {\n",
       "        vertical-align: middle;\n",
       "    }\n",
       "\n",
       "    .dataframe tbody tr th {\n",
       "        vertical-align: top;\n",
       "    }\n",
       "\n",
       "    .dataframe thead th {\n",
       "        text-align: right;\n",
       "    }\n",
       "</style>\n",
       "<table border=\"1\" class=\"dataframe\">\n",
       "  <thead>\n",
       "    <tr style=\"text-align: right;\">\n",
       "      <th></th>\n",
       "      <th>0</th>\n",
       "    </tr>\n",
       "  </thead>\n",
       "  <tbody>\n",
       "    <tr>\n",
       "      <th>44</th>\n",
       "      <td>195.694254</td>\n",
       "    </tr>\n",
       "    <tr>\n",
       "      <th>45</th>\n",
       "      <td>175.025356</td>\n",
       "    </tr>\n",
       "    <tr>\n",
       "      <th>46</th>\n",
       "      <td>146.245175</td>\n",
       "    </tr>\n",
       "    <tr>\n",
       "      <th>47</th>\n",
       "      <td>127.501736</td>\n",
       "    </tr>\n",
       "    <tr>\n",
       "      <th>48</th>\n",
       "      <td>127.942040</td>\n",
       "    </tr>\n",
       "    <tr>\n",
       "      <th>49</th>\n",
       "      <td>141.396399</td>\n",
       "    </tr>\n",
       "    <tr>\n",
       "      <th>50</th>\n",
       "      <td>152.364829</td>\n",
       "    </tr>\n",
       "    <tr>\n",
       "      <th>51</th>\n",
       "      <td>148.671255</td>\n",
       "    </tr>\n",
       "    <tr>\n",
       "      <th>52</th>\n",
       "      <td>130.552954</td>\n",
       "    </tr>\n",
       "    <tr>\n",
       "      <th>53</th>\n",
       "      <td>109.583746</td>\n",
       "    </tr>\n",
       "    <tr>\n",
       "      <th>54</th>\n",
       "      <td>99.093218</td>\n",
       "    </tr>\n",
       "    <tr>\n",
       "      <th>55</th>\n",
       "      <td>103.964220</td>\n",
       "    </tr>\n",
       "    <tr>\n",
       "      <th>56</th>\n",
       "      <td>117.475656</td>\n",
       "    </tr>\n",
       "    <tr>\n",
       "      <th>57</th>\n",
       "      <td>127.036743</td>\n",
       "    </tr>\n",
       "    <tr>\n",
       "      <th>58</th>\n",
       "      <td>124.004577</td>\n",
       "    </tr>\n",
       "    <tr>\n",
       "      <th>59</th>\n",
       "      <td>110.115478</td>\n",
       "    </tr>\n",
       "    <tr>\n",
       "      <th>60</th>\n",
       "      <td>95.925813</td>\n",
       "    </tr>\n",
       "  </tbody>\n",
       "</table>\n",
       "</div>"
      ],
      "text/plain": [
       "             0\n",
       "44  195.694254\n",
       "45  175.025356\n",
       "46  146.245175\n",
       "47  127.501736\n",
       "48  127.942040\n",
       "49  141.396399\n",
       "50  152.364829\n",
       "51  148.671255\n",
       "52  130.552954\n",
       "53  109.583746\n",
       "54   99.093218\n",
       "55  103.964220\n",
       "56  117.475656\n",
       "57  127.036743\n",
       "58  124.004577\n",
       "59  110.115478\n",
       "60   95.925813"
      ]
     },
     "execution_count": 30,
     "metadata": {},
     "output_type": "execute_result"
    }
   ],
   "source": [
    "df_b34=pd.DataFrame(b34sales,index=newdates)\n",
    "df_b34"
   ]
  },
  {
   "cell_type": "markdown",
   "metadata": {},
   "source": [
    "Assign new dates to this dataframe. starting from 08-14, as this was missing data as well."
   ]
  },
  {
   "cell_type": "code",
   "execution_count": 31,
   "metadata": {},
   "outputs": [
    {
     "data": {
      "text/html": [
       "<div>\n",
       "<style scoped>\n",
       "    .dataframe tbody tr th:only-of-type {\n",
       "        vertical-align: middle;\n",
       "    }\n",
       "\n",
       "    .dataframe tbody tr th {\n",
       "        vertical-align: top;\n",
       "    }\n",
       "\n",
       "    .dataframe thead th {\n",
       "        text-align: right;\n",
       "    }\n",
       "</style>\n",
       "<table border=\"1\" class=\"dataframe\">\n",
       "  <thead>\n",
       "    <tr style=\"text-align: right;\">\n",
       "      <th></th>\n",
       "      <th>0</th>\n",
       "      <th>date</th>\n",
       "    </tr>\n",
       "  </thead>\n",
       "  <tbody>\n",
       "    <tr>\n",
       "      <th>44</th>\n",
       "      <td>195.694254</td>\n",
       "      <td>2018-08-14</td>\n",
       "    </tr>\n",
       "    <tr>\n",
       "      <th>45</th>\n",
       "      <td>175.025356</td>\n",
       "      <td>2018-08-15</td>\n",
       "    </tr>\n",
       "    <tr>\n",
       "      <th>46</th>\n",
       "      <td>146.245175</td>\n",
       "      <td>2018-08-16</td>\n",
       "    </tr>\n",
       "    <tr>\n",
       "      <th>47</th>\n",
       "      <td>127.501736</td>\n",
       "      <td>2018-08-17</td>\n",
       "    </tr>\n",
       "    <tr>\n",
       "      <th>48</th>\n",
       "      <td>127.942040</td>\n",
       "      <td>2018-08-18</td>\n",
       "    </tr>\n",
       "    <tr>\n",
       "      <th>49</th>\n",
       "      <td>141.396399</td>\n",
       "      <td>2018-08-19</td>\n",
       "    </tr>\n",
       "    <tr>\n",
       "      <th>50</th>\n",
       "      <td>152.364829</td>\n",
       "      <td>2018-08-20</td>\n",
       "    </tr>\n",
       "    <tr>\n",
       "      <th>51</th>\n",
       "      <td>148.671255</td>\n",
       "      <td>2018-08-21</td>\n",
       "    </tr>\n",
       "    <tr>\n",
       "      <th>52</th>\n",
       "      <td>130.552954</td>\n",
       "      <td>2018-08-22</td>\n",
       "    </tr>\n",
       "    <tr>\n",
       "      <th>53</th>\n",
       "      <td>109.583746</td>\n",
       "      <td>2018-08-23</td>\n",
       "    </tr>\n",
       "    <tr>\n",
       "      <th>54</th>\n",
       "      <td>99.093218</td>\n",
       "      <td>2018-08-24</td>\n",
       "    </tr>\n",
       "    <tr>\n",
       "      <th>55</th>\n",
       "      <td>103.964220</td>\n",
       "      <td>2018-08-25</td>\n",
       "    </tr>\n",
       "    <tr>\n",
       "      <th>56</th>\n",
       "      <td>117.475656</td>\n",
       "      <td>2018-08-26</td>\n",
       "    </tr>\n",
       "    <tr>\n",
       "      <th>57</th>\n",
       "      <td>127.036743</td>\n",
       "      <td>2018-08-27</td>\n",
       "    </tr>\n",
       "    <tr>\n",
       "      <th>58</th>\n",
       "      <td>124.004577</td>\n",
       "      <td>2018-08-28</td>\n",
       "    </tr>\n",
       "    <tr>\n",
       "      <th>59</th>\n",
       "      <td>110.115478</td>\n",
       "      <td>2018-08-29</td>\n",
       "    </tr>\n",
       "    <tr>\n",
       "      <th>60</th>\n",
       "      <td>95.925813</td>\n",
       "      <td>2018-08-30</td>\n",
       "    </tr>\n",
       "  </tbody>\n",
       "</table>\n",
       "</div>"
      ],
      "text/plain": [
       "             0        date\n",
       "44  195.694254  2018-08-14\n",
       "45  175.025356  2018-08-15\n",
       "46  146.245175  2018-08-16\n",
       "47  127.501736  2018-08-17\n",
       "48  127.942040  2018-08-18\n",
       "49  141.396399  2018-08-19\n",
       "50  152.364829  2018-08-20\n",
       "51  148.671255  2018-08-21\n",
       "52  130.552954  2018-08-22\n",
       "53  109.583746  2018-08-23\n",
       "54   99.093218  2018-08-24\n",
       "55  103.964220  2018-08-25\n",
       "56  117.475656  2018-08-26\n",
       "57  127.036743  2018-08-27\n",
       "58  124.004577  2018-08-28\n",
       "59  110.115478  2018-08-29\n",
       "60   95.925813  2018-08-30"
      ]
     },
     "execution_count": 31,
     "metadata": {},
     "output_type": "execute_result"
    }
   ],
   "source": [
    "import datetime\n",
    "def assigndates(row):\n",
    "    r44=pd.to_datetime('2018-08-14')\n",
    "    year = r44.year\n",
    "    month = r44.month\n",
    "    day = r44.day+(row.name-44)\n",
    "    return datetime.date(year, month, day)\n",
    "df_b34['date']=df_b34.apply(lambda row:assigndates(row),axis=1)\n",
    "df_b34"
   ]
  },
  {
   "cell_type": "markdown",
   "metadata": {},
   "source": [
    "Assign the date to the index."
   ]
  },
  {
   "cell_type": "code",
   "execution_count": 32,
   "metadata": {},
   "outputs": [
    {
     "data": {
      "text/html": [
       "<div>\n",
       "<style scoped>\n",
       "    .dataframe tbody tr th:only-of-type {\n",
       "        vertical-align: middle;\n",
       "    }\n",
       "\n",
       "    .dataframe tbody tr th {\n",
       "        vertical-align: top;\n",
       "    }\n",
       "\n",
       "    .dataframe thead th {\n",
       "        text-align: right;\n",
       "    }\n",
       "</style>\n",
       "<table border=\"1\" class=\"dataframe\">\n",
       "  <thead>\n",
       "    <tr style=\"text-align: right;\">\n",
       "      <th></th>\n",
       "      <th>index</th>\n",
       "      <th>0</th>\n",
       "    </tr>\n",
       "    <tr>\n",
       "      <th>date</th>\n",
       "      <th></th>\n",
       "      <th></th>\n",
       "    </tr>\n",
       "  </thead>\n",
       "  <tbody>\n",
       "    <tr>\n",
       "      <th>2018-08-14</th>\n",
       "      <td>44</td>\n",
       "      <td>195.694254</td>\n",
       "    </tr>\n",
       "    <tr>\n",
       "      <th>2018-08-15</th>\n",
       "      <td>45</td>\n",
       "      <td>175.025356</td>\n",
       "    </tr>\n",
       "    <tr>\n",
       "      <th>2018-08-16</th>\n",
       "      <td>46</td>\n",
       "      <td>146.245175</td>\n",
       "    </tr>\n",
       "    <tr>\n",
       "      <th>2018-08-17</th>\n",
       "      <td>47</td>\n",
       "      <td>127.501736</td>\n",
       "    </tr>\n",
       "    <tr>\n",
       "      <th>2018-08-18</th>\n",
       "      <td>48</td>\n",
       "      <td>127.942040</td>\n",
       "    </tr>\n",
       "  </tbody>\n",
       "</table>\n",
       "</div>"
      ],
      "text/plain": [
       "            index           0\n",
       "date                         \n",
       "2018-08-14     44  195.694254\n",
       "2018-08-15     45  175.025356\n",
       "2018-08-16     46  146.245175\n",
       "2018-08-17     47  127.501736\n",
       "2018-08-18     48  127.942040"
      ]
     },
     "execution_count": 32,
     "metadata": {},
     "output_type": "execute_result"
    }
   ],
   "source": [
    "df_b34.reset_index(inplace=True)\n",
    "df_b34.set_index('date',inplace=True)\n",
    "df_b34.head()"
   ]
  },
  {
   "cell_type": "markdown",
   "metadata": {},
   "source": [
    "Drop the old index, then rename the sales index"
   ]
  },
  {
   "cell_type": "code",
   "execution_count": 33,
   "metadata": {},
   "outputs": [],
   "source": [
    "df_b34.drop(['index'],axis=1,inplace=True)"
   ]
  },
  {
   "cell_type": "code",
   "execution_count": 34,
   "metadata": {},
   "outputs": [],
   "source": [
    "df_b34.rename(columns={0: \"forecast_B30to40\"},inplace=True)"
   ]
  },
  {
   "cell_type": "markdown",
   "metadata": {},
   "source": [
    "Apply the error to the sales forecast, currently a very simple error propagation formulae."
   ]
  },
  {
   "cell_type": "code",
   "execution_count": 35,
   "metadata": {},
   "outputs": [
    {
     "data": {
      "text/html": [
       "<div>\n",
       "<style scoped>\n",
       "    .dataframe tbody tr th:only-of-type {\n",
       "        vertical-align: middle;\n",
       "    }\n",
       "\n",
       "    .dataframe tbody tr th {\n",
       "        vertical-align: top;\n",
       "    }\n",
       "\n",
       "    .dataframe thead th {\n",
       "        text-align: right;\n",
       "    }\n",
       "</style>\n",
       "<table border=\"1\" class=\"dataframe\">\n",
       "  <thead>\n",
       "    <tr style=\"text-align: right;\">\n",
       "      <th></th>\n",
       "      <th>forecast_B30to40</th>\n",
       "      <th>forecast_error</th>\n",
       "    </tr>\n",
       "    <tr>\n",
       "      <th>date</th>\n",
       "      <th></th>\n",
       "      <th></th>\n",
       "    </tr>\n",
       "  </thead>\n",
       "  <tbody>\n",
       "    <tr>\n",
       "      <th>2018-08-14</th>\n",
       "      <td>195.694254</td>\n",
       "      <td>4.060592</td>\n",
       "    </tr>\n",
       "    <tr>\n",
       "      <th>2018-08-15</th>\n",
       "      <td>175.025356</td>\n",
       "      <td>3.631719</td>\n",
       "    </tr>\n",
       "    <tr>\n",
       "      <th>2018-08-16</th>\n",
       "      <td>146.245175</td>\n",
       "      <td>3.034539</td>\n",
       "    </tr>\n",
       "    <tr>\n",
       "      <th>2018-08-17</th>\n",
       "      <td>127.501736</td>\n",
       "      <td>2.645619</td>\n",
       "    </tr>\n",
       "    <tr>\n",
       "      <th>2018-08-18</th>\n",
       "      <td>127.942040</td>\n",
       "      <td>2.654755</td>\n",
       "    </tr>\n",
       "  </tbody>\n",
       "</table>\n",
       "</div>"
      ],
      "text/plain": [
       "            forecast_B30to40  forecast_error\n",
       "date                                        \n",
       "2018-08-14        195.694254        4.060592\n",
       "2018-08-15        175.025356        3.631719\n",
       "2018-08-16        146.245175        3.034539\n",
       "2018-08-17        127.501736        2.645619\n",
       "2018-08-18        127.942040        2.654755"
      ]
     },
     "execution_count": 35,
     "metadata": {},
     "output_type": "execute_result"
    }
   ],
   "source": [
    "df_b34['forecast_error']=df_b34.apply(lambda x:x*error_percent_tot)\n",
    "df_b34.head()"
   ]
  },
  {
   "cell_type": "markdown",
   "metadata": {},
   "source": [
    "### Plot forecasted Sales\n",
    "This is the final predicted sales for the new product band."
   ]
  },
  {
   "cell_type": "code",
   "execution_count": 36,
   "metadata": {},
   "outputs": [
    {
     "data": {
      "text/plain": [
       "<matplotlib.axes._subplots.AxesSubplot at 0x26d9a1988d0>"
      ]
     },
     "execution_count": 36,
     "metadata": {},
     "output_type": "execute_result"
    },
    {
     "data": {
      "image/png": "[encoded data removed]",
      "text/plain": [
       "<Figure size 1296x432 with 1 Axes>"
      ]
     },
     "metadata": {
      "needs_background": "light"
     },
     "output_type": "display_data"
    }
   ],
   "source": [
    "f, ax = plt.subplots(1,figsize=(18,6))\n",
    "df_b34['forecast_B30to40'].plot(kind='bar',yerr=df_b34['forecast_error'], ax=ax,color='blue',alpha=0.6,label='Forecast_30to40')"
   ]
  },
  {
   "cell_type": "code",
   "execution_count": null,
   "metadata": {},
   "outputs": [],
   "source": []
  }
 ],
 "metadata": {
  "kernelspec": {
   "display_name": "Python 3",
   "language": "python",
   "name": "python3"
  },
  "language_info": {
   "codemirror_mode": {
    "name": "ipython",
    "version": 3
   },
   "file_extension": ".py",
   "mimetype": "text/x-python",
   "name": "python",
   "nbconvert_exporter": "python",
   "pygments_lexer": "ipython3",
   "version": "3.6.5"
  }
 },
 "nbformat": 4,
 "nbformat_minor": 2
}
