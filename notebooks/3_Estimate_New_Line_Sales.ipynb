{
 "cells": [
  {
   "cell_type": "code",
   "execution_count": 15,
   "metadata": {},
   "outputs": [],
   "source": [
    "%matplotlib inline\n",
    "\n",
    "import matplotlib\n",
    "import matplotlib.pyplot as plt\n",
    "import numpy as np\n",
    "import pandas as pd\n",
    "from os import path\n",
    "import scipy.optimize as opt\n",
    "import pickle\n",
    "pd.options.display.max_seq_items = 2000"
   ]
  },
  {
   "cell_type": "code",
   "execution_count": 16,
   "metadata": {},
   "outputs": [],
   "source": [
    "openfile=open( r\"C:\\Users\\Joseph\\Documents\\Beamly\\TakeHomeTask\\beamly_case_study2.pickle\", \"rb\")\n",
    "df=pickle.load(openfile)\n",
    "openfile.close()"
   ]
  },
  {
   "cell_type": "code",
   "execution_count": 17,
   "metadata": {},
   "outputs": [
    {
     "data": {
      "text/plain": [
       "<matplotlib.axes._subplots.AxesSubplot at 0x2888491fc88>"
      ]
     },
     "execution_count": 17,
     "metadata": {},
     "output_type": "execute_result"
    },
    {
     "data": {
      "image/png": "[encoded data removed]",
      "text/plain": [
       "<Figure size 432x288 with 1 Axes>"
      ]
     },
     "metadata": {
      "needs_background": "light"
     },
     "output_type": "display_data"
    }
   ],
   "source": [
    "df.groupby(['productBand']).count()['city'].plot.bar()"
   ]
  },
  {
   "cell_type": "code",
   "execution_count": 18,
   "metadata": {},
   "outputs": [
    {
     "data": {
      "text/plain": [
       "<matplotlib.axes._subplots.AxesSubplot at 0x28888e2bc88>"
      ]
     },
     "execution_count": 18,
     "metadata": {},
     "output_type": "execute_result"
    },
    {
     "data": {
      "image/png": "[encoded data removed]",
      "text/plain": [
       "<Figure size 432x288 with 1 Axes>"
      ]
     },
     "metadata": {
      "needs_background": "light"
     },
     "output_type": "display_data"
    }
   ],
   "source": [
    "df['avg_price'].hist(bins=40)"
   ]
  },
  {
   "cell_type": "code",
   "execution_count": 19,
   "metadata": {},
   "outputs": [],
   "source": [
    "data=df['avg_price'].values"
   ]
  },
  {
   "cell_type": "code",
   "execution_count": 20,
   "metadata": {},
   "outputs": [
    {
     "data": {
      "text/plain": [
       "27091"
      ]
     },
     "execution_count": 20,
     "metadata": {},
     "output_type": "execute_result"
    }
   ],
   "source": [
    "total_no_prices=df['avg_price'].count()\n",
    "total_no_prices"
   ]
  },
  {
   "cell_type": "code",
   "execution_count": 21,
   "metadata": {},
   "outputs": [],
   "source": [
    "data = data[np.isfinite(data)]"
   ]
  },
  {
   "cell_type": "code",
   "execution_count": 22,
   "metadata": {},
   "outputs": [
    {
     "data": {
      "text/plain": [
       "array([29.95, 27.95, 27.95, ..., 15.9 , 24.5 , 24.95])"
      ]
     },
     "execution_count": 22,
     "metadata": {},
     "output_type": "execute_result"
    }
   ],
   "source": [
    "data"
   ]
  },
  {
   "cell_type": "code",
   "execution_count": 23,
   "metadata": {},
   "outputs": [
    {
     "data": {
      "text/plain": [
       "(array([1.468e+03, 1.137e+03, 3.590e+02, 3.110e+02, 6.170e+02, 2.880e+02,\n",
       "        8.860e+02, 1.423e+03, 1.731e+03, 3.285e+03, 1.696e+03, 3.609e+03,\n",
       "        2.317e+03, 1.724e+03, 2.908e+03, 0.000e+00, 0.000e+00, 0.000e+00,\n",
       "        0.000e+00, 0.000e+00, 3.230e+02, 5.400e+02, 2.940e+02, 2.960e+02,\n",
       "        6.080e+02, 1.230e+02, 9.300e+01, 3.430e+02, 9.700e+01, 2.280e+02,\n",
       "        4.500e+01, 2.500e+01, 8.300e+01, 9.300e+01, 6.000e+01, 4.200e+01,\n",
       "        0.000e+00, 3.600e+01, 1.000e+00, 2.000e+00]),\n",
       " array([ 0.75 ,  2.755,  4.76 ,  6.765,  8.77 , 10.775, 12.78 , 14.785,\n",
       "        16.79 , 18.795, 20.8  , 22.805, 24.81 , 26.815, 28.82 , 30.825,\n",
       "        32.83 , 34.835, 36.84 , 38.845, 40.85 , 42.855, 44.86 , 46.865,\n",
       "        48.87 , 50.875, 52.88 , 54.885, 56.89 , 58.895, 60.9  , 62.905,\n",
       "        64.91 , 66.915, 68.92 , 70.925, 72.93 , 74.935, 76.94 , 78.945,\n",
       "        80.95 ]),\n",
       " <a list of 40 Patch objects>)"
      ]
     },
     "execution_count": 23,
     "metadata": {},
     "output_type": "execute_result"
    },
    {
     "data": {
      "image/png": "[encoded data removed]",
      "text/plain": [
       "<Figure size 432x288 with 1 Axes>"
      ]
     },
     "metadata": {
      "needs_background": "light"
     },
     "output_type": "display_data"
    }
   ],
   "source": [
    "plt.hist(data,bins=40)"
   ]
  },
  {
   "cell_type": "markdown",
   "metadata": {},
   "source": [
    "Will estimate sales for the missing band using a poisson distribution"
   ]
  },
  {
   "cell_type": "code",
   "execution_count": 24,
   "metadata": {},
   "outputs": [],
   "source": [
    "from scipy.misc import factorial\n",
    "from scipy.optimize import minimize, curve_fit\n",
    "\n",
    "def poisson(k, lamb):\n",
    "    \"\"\"poisson pdf, parameter lamb is the fit parameter\"\"\"\n",
    "    return (lamb**k/factorial(k)) * np.exp(-lamb)\n",
    "def negLogLikelihood(params, data):\n",
    "    \"\"\" the negative log-Likelohood-Function\"\"\"\n",
    "    lnl = - np.sum(np.log(poisson(data, params[0])))\n",
    "    return lnl\n",
    "def gaussian(k,p):#p[0]=D,p[1]=st_dev,p[2]=Amplitude\n",
    "    \"\"\"gaussian pdf, paras are the fit parameters\"\"\"\n",
    "    return p[2]/(p[1]*np.sqrt(2*np.pi))*np.exp(-(x-p[0])**2/(2*p[1]**2))+D #p[0]=mu (displace x), p[1]=sig (stdev), p[2]=A (amp), D=,meanmag\n",
    "def gauss(x, p,D):#p[0]=mu,p[1]=st_dev,p[2]=Amplitude\n",
    "    \"\"\"gaussian pdf, paras are the fit parameters\"\"\"\n",
    "    return p[2]/(p[1]*np.sqrt(2*np.pi))*np.exp(-(x-p[0])**2/(2*p[1]**2))+D #p[0]=mu (displace x), p[1]=sig (stdev), p[2]=A (amp), D=,meanmag"
   ]
  },
  {
   "cell_type": "code",
   "execution_count": 25,
   "metadata": {},
   "outputs": [
    {
     "name": "stdout",
     "output_type": "stream",
     "text": [
      "   direc: array([[-0.10358641]])\n",
      "     fun: 166794.10070335158\n",
      " message: 'Optimization terminated successfully.'\n",
      "    nfev: 41\n",
      "     nit: 2\n",
      "  status: 0\n",
      " success: True\n",
      "       x: array(23.42852911)\n"
     ]
    },
    {
     "name": "stderr",
     "output_type": "stream",
     "text": [
      "c:\\users\\joseph\\appdata\\local\\programs\\python\\python36\\lib\\site-packages\\ipykernel_launcher.py:6: DeprecationWarning: `factorial` is deprecated!\n",
      "Importing `factorial` from scipy.misc is deprecated in scipy 1.0.0. Use `scipy.special.factorial` instead.\n",
      "  \n",
      "c:\\users\\joseph\\appdata\\local\\programs\\python\\python36\\lib\\site-packages\\ipykernel_launcher.py:6: RuntimeWarning: invalid value encountered in power\n",
      "  \n",
      "c:\\users\\joseph\\appdata\\local\\programs\\python\\python36\\lib\\site-packages\\ipykernel_launcher.py:9: RuntimeWarning: invalid value encountered in log\n",
      "  if __name__ == '__main__':\n",
      "c:\\users\\joseph\\appdata\\local\\programs\\python\\python36\\lib\\site-packages\\matplotlib\\axes\\_axes.py:6462: UserWarning: The 'normed' kwarg is deprecated, and has been replaced by the 'density' kwarg.\n",
      "  warnings.warn(\"The 'normed' kwarg is deprecated, and has been \"\n"
     ]
    },
    {
     "data": {
      "text/plain": [
       "[<matplotlib.lines.Line2D at 0x288849f2fd0>]"
      ]
     },
     "execution_count": 25,
     "metadata": {},
     "output_type": "execute_result"
    },
    {
     "data": {
      "image/png": "[encoded data removed]",
      "text/plain": [
       "<Figure size 432x288 with 1 Axes>"
      ]
     },
     "metadata": {
      "needs_background": "light"
     },
     "output_type": "display_data"
    }
   ],
   "source": [
    "result = minimize(negLogLikelihood,  # function to minimize\n",
    "                  x0=np.ones(1),     # start value\n",
    "                  args=(data,),      # additional arguments for function\n",
    "                  method='Powell',   # minimization method, see docs\n",
    "                  )\n",
    "# result is a scipy optimize result object, the fit parameters \n",
    "# are stored in result.x\n",
    "print(result)\n",
    "\n",
    "# plot poisson-deviation with fitted parameter\n",
    "x_plot = np.linspace(min(data), max(data), 1000)\n",
    "bins=[0,10,20,30,40,50,60]\n",
    "plt.hist(data, bins=bins, normed=True)\n",
    "plt.plot(x_plot, poisson(x_plot, result.x), 'r-', lw=2)"
   ]
  },
  {
   "cell_type": "code",
   "execution_count": 26,
   "metadata": {},
   "outputs": [
    {
     "data": {
      "text/plain": [
       "[<matplotlib.lines.Line2D at 0x28884a92320>]"
      ]
     },
     "execution_count": 26,
     "metadata": {},
     "output_type": "execute_result"
    },
    {
     "data": {
      "image/png": "[encoded data removed]",
      "text/plain": [
       "<Figure size 432x288 with 1 Axes>"
      ]
     },
     "metadata": {
      "needs_background": "light"
     },
     "output_type": "display_data"
    }
   ],
   "source": [
    "y,edges=np.histogram(data,bins=40)\n",
    "x1=(edges+((edges[1]-edges[0])/2.0))[:-1]\n",
    "o0=[20.,30.,50.]\n",
    "errfunc = lambda o, x1, y: gauss(x1, o, 0) - y # Distance to the target function, similar to def function.\n",
    "o1, success = opt.leastsq(errfunc, o0[:], args=(x1, y)) # p1 gives parameters\n",
    "plt.figure()\n",
    "plt.plot(x1,y)\n",
    "plt.plot(x1,gauss(x1,o1,0))"
   ]
  },
  {
   "cell_type": "code",
   "execution_count": 27,
   "metadata": {},
   "outputs": [
    {
     "name": "stdout",
     "output_type": "stream",
     "text": [
      "1186.1323181252556 2714.8019452070503 340.96870970350176 2.3499696989829943\n"
     ]
    }
   ],
   "source": [
    "Band10_20_avg_price_count=gauss(15,o1,0)\n",
    "Band20_30_avg_price_count=gauss(25,o1,0)\n",
    "Band30_40_avg_price_count=gauss(35,o1,0)\n",
    "Band40_50_avg_price_count=gauss(45,o1,0)\n",
    "print(Band10_20_avg_price_count,Band20_30_avg_price_count,Band30_40_avg_price_count,Band40_50_avg_price_count)"
   ]
  },
  {
   "cell_type": "markdown",
   "metadata": {},
   "source": [
    "So what I've done is fit a Gaussian to the distribution of counts with average price. The histogram plots of this and the bands looked similar, but you can get more accurate fits with a larger distribution of values, so I used avg_price, instead of the bands. With the Gaussian fitted I then just calculate the count for each band next to the new line and the new line itself. Now I can benchmark the new line sales against sales from the other bands. This is all presuming that people purchase in a roughly Gaussian manner."
   ]
  },
  {
   "cell_type": "code",
   "execution_count": 28,
   "metadata": {},
   "outputs": [
    {
     "name": "stdout",
     "output_type": "stream",
     "text": [
      "0.2874626249476287 0.12559616376637636\n"
     ]
    }
   ],
   "source": [
    "var1=Band30_40_avg_price_count/Band10_20_avg_price_count\n",
    "var2=Band30_40_avg_price_count/Band20_30_avg_price_count\n",
    "print(var1,var2)"
   ]
  },
  {
   "cell_type": "markdown",
   "metadata": {},
   "source": [
    "Can create a very simple function based on the benchmarked sales, to apply to columns in a dataframe"
   ]
  },
  {
   "cell_type": "code",
   "execution_count": 29,
   "metadata": {},
   "outputs": [],
   "source": [
    "def salescount(B12,B23):\n",
    "    var1,var2=0.2874626249476287,0.12559616376637636\n",
    "    return (var1*B12+var2*B23)/2."
   ]
  },
  {
   "cell_type": "markdown",
   "metadata": {},
   "source": [
    "Now I have this model working, but I think that it is underestimating sales significantly, because a Gaussian distribution is not accurate. I think a shifted Poisson dist is more accurate, so I will try that again."
   ]
  },
  {
   "cell_type": "code",
   "execution_count": null,
   "metadata": {},
   "outputs": [],
   "source": []
  }
 ],
 "metadata": {
  "kernelspec": {
   "display_name": "Python 3",
   "language": "python",
   "name": "python3"
  },
  "language_info": {
   "codemirror_mode": {
    "name": "ipython",
    "version": 3
   },
   "file_extension": ".py",
   "mimetype": "text/x-python",
   "name": "python",
   "nbconvert_exporter": "python",
   "pygments_lexer": "ipython3",
   "version": "3.6.5"
  }
 },
 "nbformat": 4,
 "nbformat_minor": 2
}
