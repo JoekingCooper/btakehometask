{
 "cells": [
  {
   "cell_type": "code",
   "execution_count": 192,
   "metadata": {},
   "outputs": [],
   "source": [
    "%matplotlib inline\n",
    "\n",
    "import matplotlib\n",
    "import matplotlib.pyplot as plt\n",
    "import numpy as np\n",
    "import pandas as pd\n",
    "from os import path\n",
    "import pickle\n",
    "import scipy.optimize as opt\n",
    "from uncertainties import ufloat\n",
    "from uncertainties.umath import *\n",
    "import datetime\n",
    "pd.options.display.max_seq_items = 2000"
   ]
  },
  {
   "cell_type": "code",
   "execution_count": 193,
   "metadata": {},
   "outputs": [],
   "source": [
    "openfile=open( r\"C:\\Users\\Joseph\\Documents\\Beamly\\TakeHomeTask\\beamly_case_study_noNaNs.pickle\", \"rb\")\n",
    "df=pickle.load(openfile)\n",
    "openfile.close()"
   ]
  },
  {
   "cell_type": "code",
   "execution_count": 194,
   "metadata": {},
   "outputs": [],
   "source": [
    "device_date=df.groupby(by=['device_name', 'date']).sum()"
   ]
  },
  {
   "cell_type": "code",
   "execution_count": 195,
   "metadata": {},
   "outputs": [],
   "source": [
    "\n",
    "df_e=df\n",
    "df_e['weekday']=df['date'].apply(lambda x:pd.to_datetime(x).weekday())\n",
    "device_weekday=df_e.groupby(by=['productBand', 'weekday']).sum()['total_products'].unstack(0)"
   ]
  },
  {
   "cell_type": "code",
   "execution_count": 196,
   "metadata": {},
   "outputs": [],
   "source": [
    "modelling_df=df.groupby(by=['productBand', 'date']).sum()['total_products'].unstack(0)"
   ]
  },
  {
   "cell_type": "code",
   "execution_count": 197,
   "metadata": {},
   "outputs": [],
   "source": [
    "\n",
    "def salescount_poisson(B12,B23):\n",
    "    var1,var2=0.5646645900308181,0.3583200942112118\n",
    "    return (var1*B12+var2*B23)/2.\n"
   ]
  },
  {
   "cell_type": "markdown",
   "metadata": {},
   "source": [
    "### There are two ways you could deal with the data below, by maybe taking ou the wekly trends, but I'm not sure this is the best idea."
   ]
  },
  {
   "cell_type": "markdown",
   "metadata": {},
   "source": [
    "def scale_total_products_modelling(row,dwd,col):\n",
    "    scaler=dwd[col].apply(lambda x:x/dwd[col].mean())\n",
    "    weekday_temp=pd.to_datetime(row.name).weekday()\n",
    "    #print(scaler,weekday_temp,scaler[weekday_temp])\n",
    "    return row[col]/scaler[weekday_temp]\n",
    "forecast_august=modelling_df\n",
    "for column in modelling_df.columns:\n",
    "    forecast_august[column]=modelling_df.apply(lambda row:scale_total_products_modelling(row,device_weekday,column),axis=1)\n",
    "forecast_august['between30and40']=forecast_august.apply(lambda x:salescount_poisson(x['between10and20'],x['between20and30']),axis=1)\n",
    "forecast_august.drop(forecast_august.index[len(forecast_august)-1],inplace=True)"
   ]
  },
  {
   "cell_type": "code",
   "execution_count": 198,
   "metadata": {},
   "outputs": [],
   "source": [
    "forecast_august=modelling_df\n",
    "forecast_august['between30and40']=forecast_august.apply(lambda x:salescount_poisson(x['between10and20'],x['between20and30']),axis=1)\n",
    "forecast_august.drop(forecast_august.index[len(forecast_august)-1],inplace=True)"
   ]
  },
  {
   "cell_type": "code",
   "execution_count": 199,
   "metadata": {},
   "outputs": [],
   "source": [
    "def movingaverage(interval, window_size):\n",
    "    \"\"\" \n",
    "    A function to calculate a moving average, useful for looking at data trends and for dampening noise in a less artificial way.\n",
    "    \"\"\"\n",
    "    window= np.ones(int(window_size))/float(window_size)\n",
    "    return np.convolve(interval, window, 'same')"
   ]
  },
  {
   "cell_type": "code",
   "execution_count": 200,
   "metadata": {},
   "outputs": [
    {
     "data": {
      "text/html": [
       "<div>\n",
       "<style scoped>\n",
       "    .dataframe tbody tr th:only-of-type {\n",
       "        vertical-align: middle;\n",
       "    }\n",
       "\n",
       "    .dataframe tbody tr th {\n",
       "        vertical-align: top;\n",
       "    }\n",
       "\n",
       "    .dataframe thead th {\n",
       "        text-align: right;\n",
       "    }\n",
       "</style>\n",
       "<table border=\"1\" class=\"dataframe\">\n",
       "  <thead>\n",
       "    <tr style=\"text-align: right;\">\n",
       "      <th>productBand</th>\n",
       "      <th>between10and20</th>\n",
       "      <th>between20and30</th>\n",
       "      <th>between40and50</th>\n",
       "      <th>lessThan10</th>\n",
       "      <th>moreThan50</th>\n",
       "      <th>price_missing</th>\n",
       "      <th>between30and40</th>\n",
       "    </tr>\n",
       "    <tr>\n",
       "      <th>date</th>\n",
       "      <th></th>\n",
       "      <th></th>\n",
       "      <th></th>\n",
       "      <th></th>\n",
       "      <th></th>\n",
       "      <th></th>\n",
       "      <th></th>\n",
       "    </tr>\n",
       "  </thead>\n",
       "  <tbody>\n",
       "    <tr>\n",
       "      <th>2018-07-01</th>\n",
       "      <td>219.0</td>\n",
       "      <td>230.0</td>\n",
       "      <td>41.0</td>\n",
       "      <td>160.0</td>\n",
       "      <td>18.0</td>\n",
       "      <td>42.0</td>\n",
       "      <td>103.037583</td>\n",
       "    </tr>\n",
       "    <tr>\n",
       "      <th>2018-07-02</th>\n",
       "      <td>247.0</td>\n",
       "      <td>269.0</td>\n",
       "      <td>32.0</td>\n",
       "      <td>195.0</td>\n",
       "      <td>32.0</td>\n",
       "      <td>60.0</td>\n",
       "      <td>117.930130</td>\n",
       "    </tr>\n",
       "    <tr>\n",
       "      <th>2018-07-03</th>\n",
       "      <td>246.0</td>\n",
       "      <td>286.0</td>\n",
       "      <td>22.0</td>\n",
       "      <td>121.0</td>\n",
       "      <td>26.0</td>\n",
       "      <td>55.0</td>\n",
       "      <td>120.693518</td>\n",
       "    </tr>\n",
       "    <tr>\n",
       "      <th>2018-07-04</th>\n",
       "      <td>206.0</td>\n",
       "      <td>250.0</td>\n",
       "      <td>28.0</td>\n",
       "      <td>182.0</td>\n",
       "      <td>17.0</td>\n",
       "      <td>52.0</td>\n",
       "      <td>102.950465</td>\n",
       "    </tr>\n",
       "    <tr>\n",
       "      <th>2018-07-05</th>\n",
       "      <td>242.0</td>\n",
       "      <td>271.0</td>\n",
       "      <td>47.0</td>\n",
       "      <td>179.0</td>\n",
       "      <td>27.0</td>\n",
       "      <td>51.0</td>\n",
       "      <td>116.876788</td>\n",
       "    </tr>\n",
       "  </tbody>\n",
       "</table>\n",
       "</div>"
      ],
      "text/plain": [
       "productBand  between10and20  between20and30  between40and50  lessThan10  \\\n",
       "date                                                                      \n",
       "2018-07-01            219.0           230.0            41.0       160.0   \n",
       "2018-07-02            247.0           269.0            32.0       195.0   \n",
       "2018-07-03            246.0           286.0            22.0       121.0   \n",
       "2018-07-04            206.0           250.0            28.0       182.0   \n",
       "2018-07-05            242.0           271.0            47.0       179.0   \n",
       "\n",
       "productBand  moreThan50  price_missing  between30and40  \n",
       "date                                                    \n",
       "2018-07-01         18.0           42.0      103.037583  \n",
       "2018-07-02         32.0           60.0      117.930130  \n",
       "2018-07-03         26.0           55.0      120.693518  \n",
       "2018-07-04         17.0           52.0      102.950465  \n",
       "2018-07-05         27.0           51.0      116.876788  "
      ]
     },
     "execution_count": 200,
     "metadata": {},
     "output_type": "execute_result"
    }
   ],
   "source": [
    "forecast_august.head()"
   ]
  },
  {
   "cell_type": "code",
   "execution_count": 201,
   "metadata": {},
   "outputs": [
    {
     "data": {
      "text/plain": [
       "<matplotlib.axes._subplots.AxesSubplot at 0x205471d5278>"
      ]
     },
     "execution_count": 201,
     "metadata": {},
     "output_type": "execute_result"
    },
    {
     "data": {
      "image/png": "[encoded data removed]",
      "text/plain": [
       "<Figure size 1296x432 with 1 Axes>"
      ]
     },
     "metadata": {
      "needs_background": "light"
     },
     "output_type": "display_data"
    }
   ],
   "source": [
    "f, ax = plt.subplots(1,figsize=(18,6))\n",
    "forecast_august.plot(kind='bar', ax=ax)"
   ]
  },
  {
   "cell_type": "markdown",
   "metadata": {},
   "source": [
    "## Forecast New Line\n",
    "Estimate the sales of the new line from this forecasting."
   ]
  },
  {
   "cell_type": "code",
   "execution_count": 202,
   "metadata": {},
   "outputs": [
    {
     "data": {
      "text/plain": [
       "[<matplotlib.lines.Line2D at 0x20549a03940>]"
      ]
     },
     "execution_count": 202,
     "metadata": {},
     "output_type": "execute_result"
    },
    {
     "data": {
      "image/png": "[encoded data removed]",
      "text/plain": [
       "<Figure size 1296x432 with 1 Axes>"
      ]
     },
     "metadata": {
      "needs_background": "light"
     },
     "output_type": "display_data"
    }
   ],
   "source": [
    "f, ax = plt.subplots(1,figsize=(18,6))\n",
    "forecast_august['between30and40'].plot(kind='bar', ax=ax,color='blue',alpha=0.6,label='between30and40')\n",
    "move_av_30to40=movingaverage(forecast_august['between30and40'].values,4)\n",
    "ax.plot(move_av_30to40,color='blue')"
   ]
  },
  {
   "cell_type": "code",
   "execution_count": 235,
   "metadata": {},
   "outputs": [],
   "source": [
    "def monthly_trend_forecaster(t,x):\n",
    "    return x[0]*np.sin(x[1]*t+x[2]) + x[3]"
   ]
  },
  {
   "cell_type": "code",
   "execution_count": 228,
   "metadata": {},
   "outputs": [],
   "source": [
    "forecast_august.reset_index(inplace=True)"
   ]
  },
  {
   "cell_type": "code",
   "execution_count": 241,
   "metadata": {},
   "outputs": [
    {
     "name": "stdout",
     "output_type": "stream",
     "text": [
      "[-4.50073660e+01  9.98492458e-02 -1.06117431e+01  1.24526785e+02] [0.50206944 0.00107696 0.02990408 0.5979099 ]\n",
      "138.13315149591853\n"
     ]
    }
   ],
   "source": [
    "#between20and30 first\n",
    "y=movingaverage(forecast_august['between30and40'].values,6)\n",
    "x1=forecast_august.index\n",
    "guess_mean = np.mean(y)\n",
    "guess_phase = 0\n",
    "guess_freq = 0.3\n",
    "guess_amp = 1\n",
    "guess= [guess_amp, guess_freq, guess_phase, guess_mean]\n",
    "errfunc = lambda o, x1, y: monthly_trend_forecaster(x1,o) - y # Distance to the target function, through linear combination.\n",
    "fullout = opt.leastsq(errfunc, guess[:], args=(x1, y),full_output=1)\n",
    "o1,cov_o1,infodict,mesg,ier=fullout\n",
    "perr = np.sqrt(np.diag(cov_o1))\n",
    "print(o1,perr)\n",
    "print(np.mean(y))"
   ]
  },
  {
   "cell_type": "code",
   "execution_count": 270,
   "metadata": {},
   "outputs": [],
   "source": [
    "#associate o1 with errors\n",
    "# ltt=Long Term Trend\n",
    "ltt_ampl = ufloat(o1[0],perr[0])\n",
    "ltt_freq = ufloat(o1[1],perr[1])\n",
    "ltt_phas = ufloat(o1[2],perr[2])\n",
    "ltt_mean = ufloat(o1[3],perr[3])\n",
    "ltt_paras= [ltt_ampl, ltt_freq, ltt_phas, ltt_mean]"
   ]
  },
  {
   "cell_type": "code",
   "execution_count": 242,
   "metadata": {},
   "outputs": [
    {
     "name": "stdout",
     "output_type": "stream",
     "text": [
      "0.020572164560163496\n"
     ]
    }
   ],
   "source": [
    "error_comb_o1=np.sqrt((perr[0]/o1[0])**2+(perr[1]/o1[1])**2+(perr[2]/o1[2])**2)+(perr[3]/o1[3])\n",
    "print(error_comb_o1)"
   ]
  },
  {
   "cell_type": "code",
   "execution_count": 243,
   "metadata": {},
   "outputs": [
    {
     "data": {
      "text/plain": [
       "[<matplotlib.lines.Line2D at 0x2054d439400>]"
      ]
     },
     "execution_count": 243,
     "metadata": {},
     "output_type": "execute_result"
    },
    {
     "data": {
      "image/png": "[encoded data removed]",
      "text/plain": [
       "<Figure size 1296x432 with 1 Axes>"
      ]
     },
     "metadata": {
      "needs_background": "light"
     },
     "output_type": "display_data"
    }
   ],
   "source": [
    "f, ax = plt.subplots(1,figsize=(18,6))\n",
    "forecast_august['between30and40'].plot(kind='bar', ax=ax,color='blue',alpha=0.6,label='between30and40')\n",
    "ax.plot(y,color='blue')\n",
    "ax.plot(x1,monthly_trend_forecaster(x1,o1),color='k')"
   ]
  },
  {
   "cell_type": "code",
   "execution_count": 256,
   "metadata": {},
   "outputs": [
    {
     "name": "stdout",
     "output_type": "stream",
     "text": [
      "[ -6.81953478   1.16019153   0.93586808 140.82014914] [[ 4.55398543e-02 -1.97501828e-06  1.57820095e-04 -4.88136096e-04]\n",
      " [-1.97501828e-06  6.06579617e-06 -1.32652561e-04  2.32103577e-05]\n",
      " [ 1.57820095e-04 -1.32652561e-04  3.87761126e-03 -4.31521353e-04]\n",
      " [-4.88136096e-04  2.32103577e-05 -4.31521353e-04  2.28272734e-02]]\n",
      "140.74682342162677\n"
     ]
    },
    {
     "data": {
      "text/plain": [
       "[<matplotlib.lines.Line2D at 0x2054e14d080>]"
      ]
     },
     "execution_count": 256,
     "metadata": {},
     "output_type": "execute_result"
    },
    {
     "data": {
      "image/png": "[encoded data removed]",
      "text/plain": [
       "<Figure size 1296x432 with 1 Axes>"
      ]
     },
     "metadata": {
      "needs_background": "light"
     },
     "output_type": "display_data"
    }
   ],
   "source": [
    "#between20and30 first\n",
    "move_av_30to40=movingaverage(forecast_august['between30and40'].values,3)\n",
    "y=move_av_30to40\n",
    "x1=forecast_august.index\n",
    "guess_mean = np.mean(y)\n",
    "guess_std = 3*np.std(y)/(2**0.5)/(2**0.5)\n",
    "guess_phase = 1\n",
    "guess_freq =1\n",
    "guess_amp = 1\n",
    "guess= [guess_amp, guess_freq, guess_phase, guess_mean]\n",
    "errfunc = lambda o, x1, y: monthly_trend_forecaster(x1,o) - y # Distance to the target function, through linear combination.\n",
    "fullout = opt.leastsq(errfunc, guess[:], args=(x1, y),full_output=1)\n",
    "o2,cov_o2,infodict,mesg,ier=fullout\n",
    "perr2 = np.sqrt(np.diag(cov_o2))\n",
    "print(o2,cov_o2)\n",
    "print(np.mean(y))\n",
    "f, ax = plt.subplots(1,figsize=(18,6))\n",
    "forecast_august['between30and40'].plot(kind='bar', ax=ax,color='blue',alpha=0.6,label='between30and40')\n",
    "ax.plot(move_av_30to40/(monthly_trend_forecaster(x1,o1)/np.mean(monthly_trend_forecaster(x1,o1))),color='blue')\n",
    "ax.plot(x1,monthly_trend_forecaster(x1,o2),color='k')"
   ]
  },
  {
   "cell_type": "code",
   "execution_count": 271,
   "metadata": {},
   "outputs": [],
   "source": [
    "#associate o1 with errors\n",
    "# ltt=Short Term Trend\n",
    "stt_ampl = ufloat(o2[0],perr2[0])\n",
    "stt_freq = ufloat(o2[1],perr2[1])\n",
    "stt_phas = ufloat(o2[2],perr2[2])\n",
    "stt_mean = ufloat(o2[3],perr2[3])\n",
    "stt_paras= [stt_ampl, stt_freq, stt_phas, stt_mean]"
   ]
  },
  {
   "cell_type": "code",
   "execution_count": 257,
   "metadata": {},
   "outputs": [
    {
     "name": "stdout",
     "output_type": "stream",
     "text": [
      "0.0746323408948566\n"
     ]
    }
   ],
   "source": [
    "error_comb_o2=np.sqrt((perr2[0]/o2[0])**2+(perr2[1]/o2[1])**2+(perr2[2]/o2[2])**2)+(perr2[3]/o2[3])\n",
    "print(error_comb_o2)"
   ]
  },
  {
   "cell_type": "code",
   "execution_count": 258,
   "metadata": {},
   "outputs": [],
   "source": [
    "error_percent_tot=np.sqrt(error_comb_o1**2+error_comb_o2**2)"
   ]
  },
  {
   "cell_type": "code",
   "execution_count": 278,
   "metadata": {},
   "outputs": [
    {
     "data": {
      "text/plain": [
       "[<matplotlib.lines.Line2D at 0x2054f78a160>]"
      ]
     },
     "execution_count": 278,
     "metadata": {},
     "output_type": "execute_result"
    },
    {
     "data": {
      "image/png": "[encoded data removed]",
      "text/plain": [
       "<Figure size 1296x432 with 1 Axes>"
      ]
     },
     "metadata": {
      "needs_background": "light"
     },
     "output_type": "display_data"
    }
   ],
   "source": [
    "#def comb_func(x1,o1,o2):\n",
    "#    return (monthly_trend_forecaster(x1,o1)+monthly_trend_forecaster(x1,o2))/2.#This dampens the signal a little, better to use the lower function\n",
    "def comb_func(x1,o1,o2):\n",
    "    return (monthly_trend_forecaster(x1,o1)*monthly_trend_forecaster(x1,o2))/np.mean(monthly_trend_forecaster(x1,o2))\n",
    "f, ax = plt.subplots(1,figsize=(18,6))\n",
    "forecast_august['between30and40'].plot(kind='bar', ax=ax,color='blue',alpha=0.6,label='between30and40')\n",
    "ax.plot(move_av_30to40,color='blue')\n",
    "ax.plot(x1,comb_func(x1,o1,o2),color='k')#this worked before, but not good errors"
   ]
  },
  {
   "cell_type": "markdown",
   "metadata": {},
   "source": []
  },
  {
   "cell_type": "markdown",
   "metadata": {},
   "source": [
    "## Forecast Sales for last two weeks\n",
    "In coding terms this is from days 44->60"
   ]
  },
  {
   "cell_type": "code",
   "execution_count": 260,
   "metadata": {},
   "outputs": [],
   "source": [
    "newdates=np.arange(44,61,1)\n",
    "b34sales=comb_func(newdates,o1,o2)"
   ]
  },
  {
   "cell_type": "code",
   "execution_count": 261,
   "metadata": {},
   "outputs": [
    {
     "data": {
      "text/html": [
       "<div>\n",
       "<style scoped>\n",
       "    .dataframe tbody tr th:only-of-type {\n",
       "        vertical-align: middle;\n",
       "    }\n",
       "\n",
       "    .dataframe tbody tr th {\n",
       "        vertical-align: top;\n",
       "    }\n",
       "\n",
       "    .dataframe thead th {\n",
       "        text-align: right;\n",
       "    }\n",
       "</style>\n",
       "<table border=\"1\" class=\"dataframe\">\n",
       "  <thead>\n",
       "    <tr style=\"text-align: right;\">\n",
       "      <th></th>\n",
       "      <th>0</th>\n",
       "    </tr>\n",
       "  </thead>\n",
       "  <tbody>\n",
       "    <tr>\n",
       "      <th>44</th>\n",
       "      <td>116.042171</td>\n",
       "    </tr>\n",
       "    <tr>\n",
       "      <th>45</th>\n",
       "      <td>115.931654</td>\n",
       "    </tr>\n",
       "    <tr>\n",
       "      <th>46</th>\n",
       "      <td>117.287582</td>\n",
       "    </tr>\n",
       "    <tr>\n",
       "      <th>47</th>\n",
       "      <td>113.380798</td>\n",
       "    </tr>\n",
       "    <tr>\n",
       "      <th>48</th>\n",
       "      <td>104.219803</td>\n",
       "    </tr>\n",
       "    <tr>\n",
       "      <th>49</th>\n",
       "      <td>96.080273</td>\n",
       "    </tr>\n",
       "    <tr>\n",
       "      <th>50</th>\n",
       "      <td>93.822384</td>\n",
       "    </tr>\n",
       "    <tr>\n",
       "      <th>51</th>\n",
       "      <td>95.433041</td>\n",
       "    </tr>\n",
       "    <tr>\n",
       "      <th>52</th>\n",
       "      <td>94.894921</td>\n",
       "    </tr>\n",
       "    <tr>\n",
       "      <th>53</th>\n",
       "      <td>89.439067</td>\n",
       "    </tr>\n",
       "    <tr>\n",
       "      <th>54</th>\n",
       "      <td>82.548145</td>\n",
       "    </tr>\n",
       "    <tr>\n",
       "      <th>55</th>\n",
       "      <td>79.588706</td>\n",
       "    </tr>\n",
       "    <tr>\n",
       "      <th>56</th>\n",
       "      <td>81.549836</td>\n",
       "    </tr>\n",
       "    <tr>\n",
       "      <th>57</th>\n",
       "      <td>84.135980</td>\n",
       "    </tr>\n",
       "    <tr>\n",
       "      <th>58</th>\n",
       "      <td>82.962145</td>\n",
       "    </tr>\n",
       "    <tr>\n",
       "      <th>59</th>\n",
       "      <td>78.658831</td>\n",
       "    </tr>\n",
       "    <tr>\n",
       "      <th>60</th>\n",
       "      <td>76.052243</td>\n",
       "    </tr>\n",
       "  </tbody>\n",
       "</table>\n",
       "</div>"
      ],
      "text/plain": [
       "             0\n",
       "44  116.042171\n",
       "45  115.931654\n",
       "46  117.287582\n",
       "47  113.380798\n",
       "48  104.219803\n",
       "49   96.080273\n",
       "50   93.822384\n",
       "51   95.433041\n",
       "52   94.894921\n",
       "53   89.439067\n",
       "54   82.548145\n",
       "55   79.588706\n",
       "56   81.549836\n",
       "57   84.135980\n",
       "58   82.962145\n",
       "59   78.658831\n",
       "60   76.052243"
      ]
     },
     "execution_count": 261,
     "metadata": {},
     "output_type": "execute_result"
    }
   ],
   "source": [
    "df_b34=pd.DataFrame(b34sales,index=newdates)\n",
    "df_b34"
   ]
  },
  {
   "cell_type": "markdown",
   "metadata": {},
   "source": [
    "assign new dates"
   ]
  },
  {
   "cell_type": "code",
   "execution_count": 262,
   "metadata": {},
   "outputs": [
    {
     "data": {
      "text/html": [
       "<div>\n",
       "<style scoped>\n",
       "    .dataframe tbody tr th:only-of-type {\n",
       "        vertical-align: middle;\n",
       "    }\n",
       "\n",
       "    .dataframe tbody tr th {\n",
       "        vertical-align: top;\n",
       "    }\n",
       "\n",
       "    .dataframe thead th {\n",
       "        text-align: right;\n",
       "    }\n",
       "</style>\n",
       "<table border=\"1\" class=\"dataframe\">\n",
       "  <thead>\n",
       "    <tr style=\"text-align: right;\">\n",
       "      <th></th>\n",
       "      <th>0</th>\n",
       "      <th>date</th>\n",
       "    </tr>\n",
       "  </thead>\n",
       "  <tbody>\n",
       "    <tr>\n",
       "      <th>44</th>\n",
       "      <td>116.042171</td>\n",
       "      <td>2018-08-14</td>\n",
       "    </tr>\n",
       "    <tr>\n",
       "      <th>45</th>\n",
       "      <td>115.931654</td>\n",
       "      <td>2018-08-15</td>\n",
       "    </tr>\n",
       "    <tr>\n",
       "      <th>46</th>\n",
       "      <td>117.287582</td>\n",
       "      <td>2018-08-16</td>\n",
       "    </tr>\n",
       "    <tr>\n",
       "      <th>47</th>\n",
       "      <td>113.380798</td>\n",
       "      <td>2018-08-17</td>\n",
       "    </tr>\n",
       "    <tr>\n",
       "      <th>48</th>\n",
       "      <td>104.219803</td>\n",
       "      <td>2018-08-18</td>\n",
       "    </tr>\n",
       "    <tr>\n",
       "      <th>49</th>\n",
       "      <td>96.080273</td>\n",
       "      <td>2018-08-19</td>\n",
       "    </tr>\n",
       "    <tr>\n",
       "      <th>50</th>\n",
       "      <td>93.822384</td>\n",
       "      <td>2018-08-20</td>\n",
       "    </tr>\n",
       "    <tr>\n",
       "      <th>51</th>\n",
       "      <td>95.433041</td>\n",
       "      <td>2018-08-21</td>\n",
       "    </tr>\n",
       "    <tr>\n",
       "      <th>52</th>\n",
       "      <td>94.894921</td>\n",
       "      <td>2018-08-22</td>\n",
       "    </tr>\n",
       "    <tr>\n",
       "      <th>53</th>\n",
       "      <td>89.439067</td>\n",
       "      <td>2018-08-23</td>\n",
       "    </tr>\n",
       "    <tr>\n",
       "      <th>54</th>\n",
       "      <td>82.548145</td>\n",
       "      <td>2018-08-24</td>\n",
       "    </tr>\n",
       "    <tr>\n",
       "      <th>55</th>\n",
       "      <td>79.588706</td>\n",
       "      <td>2018-08-25</td>\n",
       "    </tr>\n",
       "    <tr>\n",
       "      <th>56</th>\n",
       "      <td>81.549836</td>\n",
       "      <td>2018-08-26</td>\n",
       "    </tr>\n",
       "    <tr>\n",
       "      <th>57</th>\n",
       "      <td>84.135980</td>\n",
       "      <td>2018-08-27</td>\n",
       "    </tr>\n",
       "    <tr>\n",
       "      <th>58</th>\n",
       "      <td>82.962145</td>\n",
       "      <td>2018-08-28</td>\n",
       "    </tr>\n",
       "    <tr>\n",
       "      <th>59</th>\n",
       "      <td>78.658831</td>\n",
       "      <td>2018-08-29</td>\n",
       "    </tr>\n",
       "    <tr>\n",
       "      <th>60</th>\n",
       "      <td>76.052243</td>\n",
       "      <td>2018-08-30</td>\n",
       "    </tr>\n",
       "  </tbody>\n",
       "</table>\n",
       "</div>"
      ],
      "text/plain": [
       "             0        date\n",
       "44  116.042171  2018-08-14\n",
       "45  115.931654  2018-08-15\n",
       "46  117.287582  2018-08-16\n",
       "47  113.380798  2018-08-17\n",
       "48  104.219803  2018-08-18\n",
       "49   96.080273  2018-08-19\n",
       "50   93.822384  2018-08-20\n",
       "51   95.433041  2018-08-21\n",
       "52   94.894921  2018-08-22\n",
       "53   89.439067  2018-08-23\n",
       "54   82.548145  2018-08-24\n",
       "55   79.588706  2018-08-25\n",
       "56   81.549836  2018-08-26\n",
       "57   84.135980  2018-08-27\n",
       "58   82.962145  2018-08-28\n",
       "59   78.658831  2018-08-29\n",
       "60   76.052243  2018-08-30"
      ]
     },
     "execution_count": 262,
     "metadata": {},
     "output_type": "execute_result"
    }
   ],
   "source": [
    "def assigndates(row):\n",
    "    r44=pd.to_datetime('2018-08-14')\n",
    "    year = r44.year\n",
    "    month = r44.month\n",
    "    day = r44.day+(row.name-44)\n",
    "    return datetime.date(year, month, day)\n",
    "df_b34['date']=df_b34.apply(lambda row:assigndates(row),axis=1)\n",
    "df_b34"
   ]
  },
  {
   "cell_type": "code",
   "execution_count": 263,
   "metadata": {},
   "outputs": [
    {
     "data": {
      "text/html": [
       "<div>\n",
       "<style scoped>\n",
       "    .dataframe tbody tr th:only-of-type {\n",
       "        vertical-align: middle;\n",
       "    }\n",
       "\n",
       "    .dataframe tbody tr th {\n",
       "        vertical-align: top;\n",
       "    }\n",
       "\n",
       "    .dataframe thead th {\n",
       "        text-align: right;\n",
       "    }\n",
       "</style>\n",
       "<table border=\"1\" class=\"dataframe\">\n",
       "  <thead>\n",
       "    <tr style=\"text-align: right;\">\n",
       "      <th></th>\n",
       "      <th>index</th>\n",
       "      <th>0</th>\n",
       "    </tr>\n",
       "    <tr>\n",
       "      <th>date</th>\n",
       "      <th></th>\n",
       "      <th></th>\n",
       "    </tr>\n",
       "  </thead>\n",
       "  <tbody>\n",
       "    <tr>\n",
       "      <th>2018-08-14</th>\n",
       "      <td>44</td>\n",
       "      <td>116.042171</td>\n",
       "    </tr>\n",
       "    <tr>\n",
       "      <th>2018-08-15</th>\n",
       "      <td>45</td>\n",
       "      <td>115.931654</td>\n",
       "    </tr>\n",
       "    <tr>\n",
       "      <th>2018-08-16</th>\n",
       "      <td>46</td>\n",
       "      <td>117.287582</td>\n",
       "    </tr>\n",
       "    <tr>\n",
       "      <th>2018-08-17</th>\n",
       "      <td>47</td>\n",
       "      <td>113.380798</td>\n",
       "    </tr>\n",
       "    <tr>\n",
       "      <th>2018-08-18</th>\n",
       "      <td>48</td>\n",
       "      <td>104.219803</td>\n",
       "    </tr>\n",
       "  </tbody>\n",
       "</table>\n",
       "</div>"
      ],
      "text/plain": [
       "            index           0\n",
       "date                         \n",
       "2018-08-14     44  116.042171\n",
       "2018-08-15     45  115.931654\n",
       "2018-08-16     46  117.287582\n",
       "2018-08-17     47  113.380798\n",
       "2018-08-18     48  104.219803"
      ]
     },
     "execution_count": 263,
     "metadata": {},
     "output_type": "execute_result"
    }
   ],
   "source": [
    "df_b34.reset_index(inplace=True)\n",
    "df_b34.set_index('date',inplace=True)\n",
    "df_b34.head()"
   ]
  },
  {
   "cell_type": "code",
   "execution_count": 264,
   "metadata": {},
   "outputs": [],
   "source": [
    "df_b34.drop(['index'],axis=1,inplace=True)"
   ]
  },
  {
   "cell_type": "code",
   "execution_count": 265,
   "metadata": {},
   "outputs": [],
   "source": [
    "df_b34.rename(columns={0: \"forecast_B30to40\"},inplace=True)"
   ]
  },
  {
   "cell_type": "code",
   "execution_count": 294,
   "metadata": {},
   "outputs": [
    {
     "name": "stdout",
     "output_type": "stream",
     "text": [
      "0.83+/-0.07 116.04217106358387\n",
      "0.82+/-0.07 115.93165403273852\n",
      "0.89+/-0.06 117.28758162810058\n",
      "0.65+/-0.10 113.38079832214427\n",
      "-0.20+/-0.11 104.21980264134147\n",
      "-0.85+/-0.06 96.08027264500068\n",
      "-0.947+/-0.034 93.82238406578031\n",
      "-0.88+/-0.05 95.43304098747286\n",
      "-0.91+/-0.04 94.89492125512339\n",
      "-0.994+/-0.011 89.43906721865969\n",
      "-0.70+/-0.07 82.54814451816742\n",
      "-0.46+/-0.08 79.58870595619437\n",
      "-0.62+/-0.07 81.54983607947655\n",
      "-0.80+/-0.06 84.13597962538255\n",
      "-0.73+/-0.06 82.96214485315294\n",
      "-0.37+/-0.08 78.6588311705524\n",
      "-0.12+/-0.09 76.05224267376305\n"
     ]
    },
    {
     "data": {
      "text/html": [
       "<div>\n",
       "<style scoped>\n",
       "    .dataframe tbody tr th:only-of-type {\n",
       "        vertical-align: middle;\n",
       "    }\n",
       "\n",
       "    .dataframe tbody tr th {\n",
       "        vertical-align: top;\n",
       "    }\n",
       "\n",
       "    .dataframe thead th {\n",
       "        text-align: right;\n",
       "    }\n",
       "</style>\n",
       "<table border=\"1\" class=\"dataframe\">\n",
       "  <thead>\n",
       "    <tr style=\"text-align: right;\">\n",
       "      <th></th>\n",
       "      <th>forecast_B30to40</th>\n",
       "      <th>forecast_error</th>\n",
       "    </tr>\n",
       "    <tr>\n",
       "      <th>date</th>\n",
       "      <th></th>\n",
       "      <th></th>\n",
       "    </tr>\n",
       "  </thead>\n",
       "  <tbody>\n",
       "    <tr>\n",
       "      <th>2018-08-14</th>\n",
       "      <td>116.042171</td>\n",
       "      <td>2.299983</td>\n",
       "    </tr>\n",
       "    <tr>\n",
       "      <th>2018-08-15</th>\n",
       "      <td>115.931654</td>\n",
       "      <td>2.381217</td>\n",
       "    </tr>\n",
       "    <tr>\n",
       "      <th>2018-08-16</th>\n",
       "      <td>117.287582</td>\n",
       "      <td>1.514088</td>\n",
       "    </tr>\n",
       "    <tr>\n",
       "      <th>2018-08-17</th>\n",
       "      <td>113.380798</td>\n",
       "      <td>2.840095</td>\n",
       "    </tr>\n",
       "    <tr>\n",
       "      <th>2018-08-18</th>\n",
       "      <td>104.219803</td>\n",
       "      <td>3.746308</td>\n",
       "    </tr>\n",
       "  </tbody>\n",
       "</table>\n",
       "</div>"
      ],
      "text/plain": [
       "            forecast_B30to40  forecast_error\n",
       "date                                        \n",
       "2018-08-14        116.042171        2.299983\n",
       "2018-08-15        115.931654        2.381217\n",
       "2018-08-16        117.287582        1.514088\n",
       "2018-08-17        113.380798        2.840095\n",
       "2018-08-18        104.219803        3.746308"
      ]
     },
     "execution_count": 294,
     "metadata": {},
     "output_type": "execute_result"
    }
   ],
   "source": [
    "def monthly_trend_forecaster(t,x):\n",
    "    x1in=x[1]*t\n",
    "    return x[0]*sin(x1in+x[2]) + x[3]\n",
    "def error_forecaster(t,para1,para2):\n",
    "    print(sin(para1[1]*t+para1[2]),t)\n",
    "    return sqrt(monthly_trend_forecaster(t,para1)**2+monthly_trend_forecaster(t,para2)**2).s\n",
    "df_b34['forecast_error']=df_b34[\"forecast_B30to40\"].apply(lambda x:error_forecaster(x,ltt_paras,stt_paras))\n",
    "df_b34.head()"
   ]
  },
  {
   "cell_type": "markdown",
   "metadata": {},
   "source": [
    "This is quite a novel way of calculating errors, but I'm not completely convinced. This package gives +- as the same value, although this is technically impossible, so obviously a bit unreliable. Hilariously I know that academics use this package blindly."
   ]
  },
  {
   "cell_type": "code",
   "execution_count": 296,
   "metadata": {},
   "outputs": [
    {
     "data": {
      "text/html": [
       "<div>\n",
       "<style scoped>\n",
       "    .dataframe tbody tr th:only-of-type {\n",
       "        vertical-align: middle;\n",
       "    }\n",
       "\n",
       "    .dataframe tbody tr th {\n",
       "        vertical-align: top;\n",
       "    }\n",
       "\n",
       "    .dataframe thead th {\n",
       "        text-align: right;\n",
       "    }\n",
       "</style>\n",
       "<table border=\"1\" class=\"dataframe\">\n",
       "  <thead>\n",
       "    <tr style=\"text-align: right;\">\n",
       "      <th></th>\n",
       "      <th>forecast_B30to40</th>\n",
       "      <th>forecast_error</th>\n",
       "    </tr>\n",
       "    <tr>\n",
       "      <th>date</th>\n",
       "      <th></th>\n",
       "      <th></th>\n",
       "    </tr>\n",
       "  </thead>\n",
       "  <tbody>\n",
       "    <tr>\n",
       "      <th>2018-08-14</th>\n",
       "      <td>116.042171</td>\n",
       "      <td>8.983493</td>\n",
       "    </tr>\n",
       "    <tr>\n",
       "      <th>2018-08-15</th>\n",
       "      <td>115.931654</td>\n",
       "      <td>8.974937</td>\n",
       "    </tr>\n",
       "    <tr>\n",
       "      <th>2018-08-16</th>\n",
       "      <td>117.287582</td>\n",
       "      <td>9.079908</td>\n",
       "    </tr>\n",
       "    <tr>\n",
       "      <th>2018-08-17</th>\n",
       "      <td>113.380798</td>\n",
       "      <td>8.777461</td>\n",
       "    </tr>\n",
       "    <tr>\n",
       "      <th>2018-08-18</th>\n",
       "      <td>104.219803</td>\n",
       "      <td>8.068255</td>\n",
       "    </tr>\n",
       "  </tbody>\n",
       "</table>\n",
       "</div>"
      ],
      "text/plain": [
       "            forecast_B30to40  forecast_error\n",
       "date                                        \n",
       "2018-08-14        116.042171        8.983493\n",
       "2018-08-15        115.931654        8.974937\n",
       "2018-08-16        117.287582        9.079908\n",
       "2018-08-17        113.380798        8.777461\n",
       "2018-08-18        104.219803        8.068255"
      ]
     },
     "execution_count": 296,
     "metadata": {},
     "output_type": "execute_result"
    }
   ],
   "source": [
    "df_b34['forecast_error']=df_b34.apply(lambda x:x*error_percent_tot)\n",
    "df_b34.head()"
   ]
  },
  {
   "cell_type": "code",
   "execution_count": 297,
   "metadata": {},
   "outputs": [
    {
     "data": {
      "text/plain": [
       "<matplotlib.axes._subplots.AxesSubplot at 0x2054f5eceb8>"
      ]
     },
     "execution_count": 297,
     "metadata": {},
     "output_type": "execute_result"
    },
    {
     "data": {
      "image/png": "[encoded data removed]",
      "text/plain": [
       "<Figure size 1296x432 with 1 Axes>"
      ]
     },
     "metadata": {
      "needs_background": "light"
     },
     "output_type": "display_data"
    }
   ],
   "source": [
    "f, ax = plt.subplots(1,figsize=(18,6))\n",
    "df_b34['forecast_B30to40'].plot(kind='bar',yerr=df_b34['forecast_error'], ax=ax,color='blue',alpha=0.6,label='Forecast_30to40')"
   ]
  },
  {
   "cell_type": "markdown",
   "metadata": {},
   "source": [
    "Ok the errors are very small, my model is convinced it is very good. The best way to work out the error on this would be to use a grid search method, but that would take a lot of time to build right now, so this will have to do."
   ]
  },
  {
   "cell_type": "code",
   "execution_count": null,
   "metadata": {},
   "outputs": [],
   "source": []
  }
 ],
 "metadata": {
  "kernelspec": {
   "display_name": "Python 3",
   "language": "python",
   "name": "python3"
  },
  "language_info": {
   "codemirror_mode": {
    "name": "ipython",
    "version": 3
   },
   "file_extension": ".py",
   "mimetype": "text/x-python",
   "name": "python",
   "nbconvert_exporter": "python",
   "pygments_lexer": "ipython3",
   "version": "3.6.5"
  }
 },
 "nbformat": 4,
 "nbformat_minor": 2
}
